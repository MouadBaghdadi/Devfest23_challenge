{
  "nbformat": 4,
  "nbformat_minor": 0,
  "metadata": {
    "colab": {
      "provenance": [],
      "gpuType": "T4",
      "mount_file_id": "1_g8gOCY2VBrmK634zI2Xc8vxeK5B0Wvs",
      "authorship_tag": "ABX9TyPFlW2lS0CXaddX+0clw/M0",
      "include_colab_link": true
    },
    "kernelspec": {
      "name": "python3",
      "display_name": "Python 3"
    },
    "language_info": {
      "name": "python"
    },
    "accelerator": "GPU"
  },
  "cells": [
    {
      "cell_type": "markdown",
      "metadata": {
        "id": "view-in-github",
        "colab_type": "text"
      },
      "source": [
        "<a href=\"https://colab.research.google.com/github/MouadBaghdadi/Devfest23_challenge/blob/main/solution.ipynb\" target=\"_parent\"><img src=\"https://colab.research.google.com/assets/colab-badge.svg\" alt=\"Open In Colab\"/></a>"
      ]
    },
    {
      "cell_type": "code",
      "execution_count": 2,
      "metadata": {
        "id": "mJ8OX_Rs2D8T"
      },
      "outputs": [],
      "source": [
        "import torch\n",
        "import torchvision\n",
        "from torchvision import transforms\n",
        "import torch.nn as nn\n",
        "from torch.nn import functional as F\n",
        "import torch.optim as optim\n",
        "from torch.autograd import Variable"
      ]
    },
    {
      "cell_type": "code",
      "source": [
        "import numpy as np\n",
        "%matplotlib inline\n",
        "import matplotlib.pyplot as plt\n",
        "from PIL import Image"
      ],
      "metadata": {
        "id": "sIXDPfiR2K7n"
      },
      "execution_count": 3,
      "outputs": []
    },
    {
      "cell_type": "code",
      "source": [
        "model_url = {\n",
        "    'resnet50': 'https://download.pytorch.org/models/resnet50-19c8e357.pth',\n",
        "}"
      ],
      "metadata": {
        "id": "Vqw02S4V2dOT"
      },
      "execution_count": 5,
      "outputs": []
    },
    {
      "cell_type": "code",
      "source": [
        "#Set pretrained to False\n",
        "resnet50 = torchvision.models.resnet50(pretrained=False)\n",
        "# resnet50.load_state_dict(torch.load('./models/resnet50-19c8e357.pth'))\n",
        "resnet50.load_state_dict(torch.hub.load_state_dict_from_url(model_url['resnet50']))  #load the pretrained weights\n",
        "resnet50.eval()"
      ],
      "metadata": {
        "colab": {
          "base_uri": "https://localhost:8080/"
        },
        "id": "3xjyTVw62fQo",
        "outputId": "8f00a0dd-2964-40c5-804a-37c686aba410"
      },
      "execution_count": 6,
      "outputs": [
        {
          "output_type": "stream",
          "name": "stderr",
          "text": [
            "/usr/local/lib/python3.10/dist-packages/torchvision/models/_utils.py:208: UserWarning: The parameter 'pretrained' is deprecated since 0.13 and may be removed in the future, please use 'weights' instead.\n",
            "  warnings.warn(\n",
            "/usr/local/lib/python3.10/dist-packages/torchvision/models/_utils.py:223: UserWarning: Arguments other than a weight enum or `None` for 'weights' are deprecated since 0.13 and may be removed in the future. The current behavior is equivalent to passing `weights=None`.\n",
            "  warnings.warn(msg)\n"
          ]
        },
        {
          "output_type": "execute_result",
          "data": {
            "text/plain": [
              "ResNet(\n",
              "  (conv1): Conv2d(3, 64, kernel_size=(7, 7), stride=(2, 2), padding=(3, 3), bias=False)\n",
              "  (bn1): BatchNorm2d(64, eps=1e-05, momentum=0.1, affine=True, track_running_stats=True)\n",
              "  (relu): ReLU(inplace=True)\n",
              "  (maxpool): MaxPool2d(kernel_size=3, stride=2, padding=1, dilation=1, ceil_mode=False)\n",
              "  (layer1): Sequential(\n",
              "    (0): Bottleneck(\n",
              "      (conv1): Conv2d(64, 64, kernel_size=(1, 1), stride=(1, 1), bias=False)\n",
              "      (bn1): BatchNorm2d(64, eps=1e-05, momentum=0.1, affine=True, track_running_stats=True)\n",
              "      (conv2): Conv2d(64, 64, kernel_size=(3, 3), stride=(1, 1), padding=(1, 1), bias=False)\n",
              "      (bn2): BatchNorm2d(64, eps=1e-05, momentum=0.1, affine=True, track_running_stats=True)\n",
              "      (conv3): Conv2d(64, 256, kernel_size=(1, 1), stride=(1, 1), bias=False)\n",
              "      (bn3): BatchNorm2d(256, eps=1e-05, momentum=0.1, affine=True, track_running_stats=True)\n",
              "      (relu): ReLU(inplace=True)\n",
              "      (downsample): Sequential(\n",
              "        (0): Conv2d(64, 256, kernel_size=(1, 1), stride=(1, 1), bias=False)\n",
              "        (1): BatchNorm2d(256, eps=1e-05, momentum=0.1, affine=True, track_running_stats=True)\n",
              "      )\n",
              "    )\n",
              "    (1): Bottleneck(\n",
              "      (conv1): Conv2d(256, 64, kernel_size=(1, 1), stride=(1, 1), bias=False)\n",
              "      (bn1): BatchNorm2d(64, eps=1e-05, momentum=0.1, affine=True, track_running_stats=True)\n",
              "      (conv2): Conv2d(64, 64, kernel_size=(3, 3), stride=(1, 1), padding=(1, 1), bias=False)\n",
              "      (bn2): BatchNorm2d(64, eps=1e-05, momentum=0.1, affine=True, track_running_stats=True)\n",
              "      (conv3): Conv2d(64, 256, kernel_size=(1, 1), stride=(1, 1), bias=False)\n",
              "      (bn3): BatchNorm2d(256, eps=1e-05, momentum=0.1, affine=True, track_running_stats=True)\n",
              "      (relu): ReLU(inplace=True)\n",
              "    )\n",
              "    (2): Bottleneck(\n",
              "      (conv1): Conv2d(256, 64, kernel_size=(1, 1), stride=(1, 1), bias=False)\n",
              "      (bn1): BatchNorm2d(64, eps=1e-05, momentum=0.1, affine=True, track_running_stats=True)\n",
              "      (conv2): Conv2d(64, 64, kernel_size=(3, 3), stride=(1, 1), padding=(1, 1), bias=False)\n",
              "      (bn2): BatchNorm2d(64, eps=1e-05, momentum=0.1, affine=True, track_running_stats=True)\n",
              "      (conv3): Conv2d(64, 256, kernel_size=(1, 1), stride=(1, 1), bias=False)\n",
              "      (bn3): BatchNorm2d(256, eps=1e-05, momentum=0.1, affine=True, track_running_stats=True)\n",
              "      (relu): ReLU(inplace=True)\n",
              "    )\n",
              "  )\n",
              "  (layer2): Sequential(\n",
              "    (0): Bottleneck(\n",
              "      (conv1): Conv2d(256, 128, kernel_size=(1, 1), stride=(1, 1), bias=False)\n",
              "      (bn1): BatchNorm2d(128, eps=1e-05, momentum=0.1, affine=True, track_running_stats=True)\n",
              "      (conv2): Conv2d(128, 128, kernel_size=(3, 3), stride=(2, 2), padding=(1, 1), bias=False)\n",
              "      (bn2): BatchNorm2d(128, eps=1e-05, momentum=0.1, affine=True, track_running_stats=True)\n",
              "      (conv3): Conv2d(128, 512, kernel_size=(1, 1), stride=(1, 1), bias=False)\n",
              "      (bn3): BatchNorm2d(512, eps=1e-05, momentum=0.1, affine=True, track_running_stats=True)\n",
              "      (relu): ReLU(inplace=True)\n",
              "      (downsample): Sequential(\n",
              "        (0): Conv2d(256, 512, kernel_size=(1, 1), stride=(2, 2), bias=False)\n",
              "        (1): BatchNorm2d(512, eps=1e-05, momentum=0.1, affine=True, track_running_stats=True)\n",
              "      )\n",
              "    )\n",
              "    (1): Bottleneck(\n",
              "      (conv1): Conv2d(512, 128, kernel_size=(1, 1), stride=(1, 1), bias=False)\n",
              "      (bn1): BatchNorm2d(128, eps=1e-05, momentum=0.1, affine=True, track_running_stats=True)\n",
              "      (conv2): Conv2d(128, 128, kernel_size=(3, 3), stride=(1, 1), padding=(1, 1), bias=False)\n",
              "      (bn2): BatchNorm2d(128, eps=1e-05, momentum=0.1, affine=True, track_running_stats=True)\n",
              "      (conv3): Conv2d(128, 512, kernel_size=(1, 1), stride=(1, 1), bias=False)\n",
              "      (bn3): BatchNorm2d(512, eps=1e-05, momentum=0.1, affine=True, track_running_stats=True)\n",
              "      (relu): ReLU(inplace=True)\n",
              "    )\n",
              "    (2): Bottleneck(\n",
              "      (conv1): Conv2d(512, 128, kernel_size=(1, 1), stride=(1, 1), bias=False)\n",
              "      (bn1): BatchNorm2d(128, eps=1e-05, momentum=0.1, affine=True, track_running_stats=True)\n",
              "      (conv2): Conv2d(128, 128, kernel_size=(3, 3), stride=(1, 1), padding=(1, 1), bias=False)\n",
              "      (bn2): BatchNorm2d(128, eps=1e-05, momentum=0.1, affine=True, track_running_stats=True)\n",
              "      (conv3): Conv2d(128, 512, kernel_size=(1, 1), stride=(1, 1), bias=False)\n",
              "      (bn3): BatchNorm2d(512, eps=1e-05, momentum=0.1, affine=True, track_running_stats=True)\n",
              "      (relu): ReLU(inplace=True)\n",
              "    )\n",
              "    (3): Bottleneck(\n",
              "      (conv1): Conv2d(512, 128, kernel_size=(1, 1), stride=(1, 1), bias=False)\n",
              "      (bn1): BatchNorm2d(128, eps=1e-05, momentum=0.1, affine=True, track_running_stats=True)\n",
              "      (conv2): Conv2d(128, 128, kernel_size=(3, 3), stride=(1, 1), padding=(1, 1), bias=False)\n",
              "      (bn2): BatchNorm2d(128, eps=1e-05, momentum=0.1, affine=True, track_running_stats=True)\n",
              "      (conv3): Conv2d(128, 512, kernel_size=(1, 1), stride=(1, 1), bias=False)\n",
              "      (bn3): BatchNorm2d(512, eps=1e-05, momentum=0.1, affine=True, track_running_stats=True)\n",
              "      (relu): ReLU(inplace=True)\n",
              "    )\n",
              "  )\n",
              "  (layer3): Sequential(\n",
              "    (0): Bottleneck(\n",
              "      (conv1): Conv2d(512, 256, kernel_size=(1, 1), stride=(1, 1), bias=False)\n",
              "      (bn1): BatchNorm2d(256, eps=1e-05, momentum=0.1, affine=True, track_running_stats=True)\n",
              "      (conv2): Conv2d(256, 256, kernel_size=(3, 3), stride=(2, 2), padding=(1, 1), bias=False)\n",
              "      (bn2): BatchNorm2d(256, eps=1e-05, momentum=0.1, affine=True, track_running_stats=True)\n",
              "      (conv3): Conv2d(256, 1024, kernel_size=(1, 1), stride=(1, 1), bias=False)\n",
              "      (bn3): BatchNorm2d(1024, eps=1e-05, momentum=0.1, affine=True, track_running_stats=True)\n",
              "      (relu): ReLU(inplace=True)\n",
              "      (downsample): Sequential(\n",
              "        (0): Conv2d(512, 1024, kernel_size=(1, 1), stride=(2, 2), bias=False)\n",
              "        (1): BatchNorm2d(1024, eps=1e-05, momentum=0.1, affine=True, track_running_stats=True)\n",
              "      )\n",
              "    )\n",
              "    (1): Bottleneck(\n",
              "      (conv1): Conv2d(1024, 256, kernel_size=(1, 1), stride=(1, 1), bias=False)\n",
              "      (bn1): BatchNorm2d(256, eps=1e-05, momentum=0.1, affine=True, track_running_stats=True)\n",
              "      (conv2): Conv2d(256, 256, kernel_size=(3, 3), stride=(1, 1), padding=(1, 1), bias=False)\n",
              "      (bn2): BatchNorm2d(256, eps=1e-05, momentum=0.1, affine=True, track_running_stats=True)\n",
              "      (conv3): Conv2d(256, 1024, kernel_size=(1, 1), stride=(1, 1), bias=False)\n",
              "      (bn3): BatchNorm2d(1024, eps=1e-05, momentum=0.1, affine=True, track_running_stats=True)\n",
              "      (relu): ReLU(inplace=True)\n",
              "    )\n",
              "    (2): Bottleneck(\n",
              "      (conv1): Conv2d(1024, 256, kernel_size=(1, 1), stride=(1, 1), bias=False)\n",
              "      (bn1): BatchNorm2d(256, eps=1e-05, momentum=0.1, affine=True, track_running_stats=True)\n",
              "      (conv2): Conv2d(256, 256, kernel_size=(3, 3), stride=(1, 1), padding=(1, 1), bias=False)\n",
              "      (bn2): BatchNorm2d(256, eps=1e-05, momentum=0.1, affine=True, track_running_stats=True)\n",
              "      (conv3): Conv2d(256, 1024, kernel_size=(1, 1), stride=(1, 1), bias=False)\n",
              "      (bn3): BatchNorm2d(1024, eps=1e-05, momentum=0.1, affine=True, track_running_stats=True)\n",
              "      (relu): ReLU(inplace=True)\n",
              "    )\n",
              "    (3): Bottleneck(\n",
              "      (conv1): Conv2d(1024, 256, kernel_size=(1, 1), stride=(1, 1), bias=False)\n",
              "      (bn1): BatchNorm2d(256, eps=1e-05, momentum=0.1, affine=True, track_running_stats=True)\n",
              "      (conv2): Conv2d(256, 256, kernel_size=(3, 3), stride=(1, 1), padding=(1, 1), bias=False)\n",
              "      (bn2): BatchNorm2d(256, eps=1e-05, momentum=0.1, affine=True, track_running_stats=True)\n",
              "      (conv3): Conv2d(256, 1024, kernel_size=(1, 1), stride=(1, 1), bias=False)\n",
              "      (bn3): BatchNorm2d(1024, eps=1e-05, momentum=0.1, affine=True, track_running_stats=True)\n",
              "      (relu): ReLU(inplace=True)\n",
              "    )\n",
              "    (4): Bottleneck(\n",
              "      (conv1): Conv2d(1024, 256, kernel_size=(1, 1), stride=(1, 1), bias=False)\n",
              "      (bn1): BatchNorm2d(256, eps=1e-05, momentum=0.1, affine=True, track_running_stats=True)\n",
              "      (conv2): Conv2d(256, 256, kernel_size=(3, 3), stride=(1, 1), padding=(1, 1), bias=False)\n",
              "      (bn2): BatchNorm2d(256, eps=1e-05, momentum=0.1, affine=True, track_running_stats=True)\n",
              "      (conv3): Conv2d(256, 1024, kernel_size=(1, 1), stride=(1, 1), bias=False)\n",
              "      (bn3): BatchNorm2d(1024, eps=1e-05, momentum=0.1, affine=True, track_running_stats=True)\n",
              "      (relu): ReLU(inplace=True)\n",
              "    )\n",
              "    (5): Bottleneck(\n",
              "      (conv1): Conv2d(1024, 256, kernel_size=(1, 1), stride=(1, 1), bias=False)\n",
              "      (bn1): BatchNorm2d(256, eps=1e-05, momentum=0.1, affine=True, track_running_stats=True)\n",
              "      (conv2): Conv2d(256, 256, kernel_size=(3, 3), stride=(1, 1), padding=(1, 1), bias=False)\n",
              "      (bn2): BatchNorm2d(256, eps=1e-05, momentum=0.1, affine=True, track_running_stats=True)\n",
              "      (conv3): Conv2d(256, 1024, kernel_size=(1, 1), stride=(1, 1), bias=False)\n",
              "      (bn3): BatchNorm2d(1024, eps=1e-05, momentum=0.1, affine=True, track_running_stats=True)\n",
              "      (relu): ReLU(inplace=True)\n",
              "    )\n",
              "  )\n",
              "  (layer4): Sequential(\n",
              "    (0): Bottleneck(\n",
              "      (conv1): Conv2d(1024, 512, kernel_size=(1, 1), stride=(1, 1), bias=False)\n",
              "      (bn1): BatchNorm2d(512, eps=1e-05, momentum=0.1, affine=True, track_running_stats=True)\n",
              "      (conv2): Conv2d(512, 512, kernel_size=(3, 3), stride=(2, 2), padding=(1, 1), bias=False)\n",
              "      (bn2): BatchNorm2d(512, eps=1e-05, momentum=0.1, affine=True, track_running_stats=True)\n",
              "      (conv3): Conv2d(512, 2048, kernel_size=(1, 1), stride=(1, 1), bias=False)\n",
              "      (bn3): BatchNorm2d(2048, eps=1e-05, momentum=0.1, affine=True, track_running_stats=True)\n",
              "      (relu): ReLU(inplace=True)\n",
              "      (downsample): Sequential(\n",
              "        (0): Conv2d(1024, 2048, kernel_size=(1, 1), stride=(2, 2), bias=False)\n",
              "        (1): BatchNorm2d(2048, eps=1e-05, momentum=0.1, affine=True, track_running_stats=True)\n",
              "      )\n",
              "    )\n",
              "    (1): Bottleneck(\n",
              "      (conv1): Conv2d(2048, 512, kernel_size=(1, 1), stride=(1, 1), bias=False)\n",
              "      (bn1): BatchNorm2d(512, eps=1e-05, momentum=0.1, affine=True, track_running_stats=True)\n",
              "      (conv2): Conv2d(512, 512, kernel_size=(3, 3), stride=(1, 1), padding=(1, 1), bias=False)\n",
              "      (bn2): BatchNorm2d(512, eps=1e-05, momentum=0.1, affine=True, track_running_stats=True)\n",
              "      (conv3): Conv2d(512, 2048, kernel_size=(1, 1), stride=(1, 1), bias=False)\n",
              "      (bn3): BatchNorm2d(2048, eps=1e-05, momentum=0.1, affine=True, track_running_stats=True)\n",
              "      (relu): ReLU(inplace=True)\n",
              "    )\n",
              "    (2): Bottleneck(\n",
              "      (conv1): Conv2d(2048, 512, kernel_size=(1, 1), stride=(1, 1), bias=False)\n",
              "      (bn1): BatchNorm2d(512, eps=1e-05, momentum=0.1, affine=True, track_running_stats=True)\n",
              "      (conv2): Conv2d(512, 512, kernel_size=(3, 3), stride=(1, 1), padding=(1, 1), bias=False)\n",
              "      (bn2): BatchNorm2d(512, eps=1e-05, momentum=0.1, affine=True, track_running_stats=True)\n",
              "      (conv3): Conv2d(512, 2048, kernel_size=(1, 1), stride=(1, 1), bias=False)\n",
              "      (bn3): BatchNorm2d(2048, eps=1e-05, momentum=0.1, affine=True, track_running_stats=True)\n",
              "      (relu): ReLU(inplace=True)\n",
              "    )\n",
              "  )\n",
              "  (avgpool): AdaptiveAvgPool2d(output_size=(1, 1))\n",
              "  (fc): Linear(in_features=2048, out_features=1000, bias=True)\n",
              ")"
            ]
          },
          "metadata": {},
          "execution_count": 6
        }
      ]
    },
    {
      "cell_type": "code",
      "source": [
        "#some transformation on the train and test grayscal images\n",
        "data_transforms = {\n",
        "    'train':\n",
        "     transforms.Compose([\n",
        "    transforms.Grayscale(num_output_channels=3),  # Convert to 3-channel grayscale\n",
        "    transforms.Resize((224, 224)),  # Resize to 224x224\n",
        "    transforms.ToTensor(),\n",
        "    transforms.Normalize(mean=[0.485, 0.456, 0.406], std=[0.229, 0.224, 0.225])\n",
        "]),\n",
        "    'test':\n",
        "     transforms.Compose([\n",
        "    transforms.Grayscale(num_output_channels=3),  # Convert to 3-channel grayscale\n",
        "    transforms.Resize((224, 224)),  # Resize to 224x224\n",
        "    transforms.ToTensor(),\n",
        "    transforms.Normalize(mean=[0.485, 0.456, 0.406], std=[0.229, 0.224, 0.225])\n",
        "]),\n",
        "}"
      ],
      "metadata": {
        "id": "fOpPk1Gg22Sk"
      },
      "execution_count": 7,
      "outputs": []
    },
    {
      "cell_type": "code",
      "source": [
        "data_sets = {\n",
        "    'train': torchvision.datasets.MNIST('./datasets/mnist/', train=True, transform=data_transforms['train'], download=True),\n",
        "    'test': torchvision.datasets.MNIST('./datasets/mnist/', train=False, transform=data_transforms['test'], download=True),\n",
        "}"
      ],
      "metadata": {
        "colab": {
          "base_uri": "https://localhost:8080/"
        },
        "id": "z8IznchX25Rq",
        "outputId": "c9419367-9de6-4455-fac0-e994d9617705"
      },
      "execution_count": 8,
      "outputs": [
        {
          "output_type": "stream",
          "name": "stdout",
          "text": [
            "Downloading http://yann.lecun.com/exdb/mnist/train-images-idx3-ubyte.gz\n",
            "Downloading http://yann.lecun.com/exdb/mnist/train-images-idx3-ubyte.gz to ./datasets/mnist/MNIST/raw/train-images-idx3-ubyte.gz\n"
          ]
        },
        {
          "output_type": "stream",
          "name": "stderr",
          "text": [
            "100%|██████████| 9912422/9912422 [00:00<00:00, 105897859.01it/s]\n"
          ]
        },
        {
          "output_type": "stream",
          "name": "stdout",
          "text": [
            "Extracting ./datasets/mnist/MNIST/raw/train-images-idx3-ubyte.gz to ./datasets/mnist/MNIST/raw\n",
            "\n",
            "Downloading http://yann.lecun.com/exdb/mnist/train-labels-idx1-ubyte.gz\n",
            "Downloading http://yann.lecun.com/exdb/mnist/train-labels-idx1-ubyte.gz to ./datasets/mnist/MNIST/raw/train-labels-idx1-ubyte.gz\n"
          ]
        },
        {
          "output_type": "stream",
          "name": "stderr",
          "text": [
            "100%|██████████| 28881/28881 [00:00<00:00, 21304202.22it/s]\n"
          ]
        },
        {
          "output_type": "stream",
          "name": "stdout",
          "text": [
            "Extracting ./datasets/mnist/MNIST/raw/train-labels-idx1-ubyte.gz to ./datasets/mnist/MNIST/raw\n",
            "\n",
            "Downloading http://yann.lecun.com/exdb/mnist/t10k-images-idx3-ubyte.gz\n",
            "Downloading http://yann.lecun.com/exdb/mnist/t10k-images-idx3-ubyte.gz to ./datasets/mnist/MNIST/raw/t10k-images-idx3-ubyte.gz\n"
          ]
        },
        {
          "output_type": "stream",
          "name": "stderr",
          "text": [
            "100%|██████████| 1648877/1648877 [00:00<00:00, 25762019.41it/s]\n"
          ]
        },
        {
          "output_type": "stream",
          "name": "stdout",
          "text": [
            "Extracting ./datasets/mnist/MNIST/raw/t10k-images-idx3-ubyte.gz to ./datasets/mnist/MNIST/raw\n",
            "\n",
            "Downloading http://yann.lecun.com/exdb/mnist/t10k-labels-idx1-ubyte.gz\n",
            "Downloading http://yann.lecun.com/exdb/mnist/t10k-labels-idx1-ubyte.gz to ./datasets/mnist/MNIST/raw/t10k-labels-idx1-ubyte.gz\n"
          ]
        },
        {
          "output_type": "stream",
          "name": "stderr",
          "text": [
            "100%|██████████| 4542/4542 [00:00<00:00, 22571716.55it/s]\n"
          ]
        },
        {
          "output_type": "stream",
          "name": "stdout",
          "text": [
            "Extracting ./datasets/mnist/MNIST/raw/t10k-labels-idx1-ubyte.gz to ./datasets/mnist/MNIST/raw\n",
            "\n"
          ]
        }
      ]
    },
    {
      "cell_type": "code",
      "source": [
        "print(data_sets['train'])\n",
        "print('='*85)\n",
        "print(data_sets['test'])"
      ],
      "metadata": {
        "id": "sjY903fh28km",
        "colab": {
          "base_uri": "https://localhost:8080/"
        },
        "outputId": "63e5f40b-54e0-4875-85ed-d1caa6a147ab"
      },
      "execution_count": 9,
      "outputs": [
        {
          "output_type": "stream",
          "name": "stdout",
          "text": [
            "Dataset MNIST\n",
            "    Number of datapoints: 60000\n",
            "    Root location: ./datasets/mnist/\n",
            "    Split: Train\n",
            "    StandardTransform\n",
            "Transform: Compose(\n",
            "               Grayscale(num_output_channels=3)\n",
            "               Resize(size=(224, 224), interpolation=bilinear, max_size=None, antialias=warn)\n",
            "               ToTensor()\n",
            "               Normalize(mean=[0.485, 0.456, 0.406], std=[0.229, 0.224, 0.225])\n",
            "           )\n",
            "=====================================================================================\n",
            "Dataset MNIST\n",
            "    Number of datapoints: 10000\n",
            "    Root location: ./datasets/mnist/\n",
            "    Split: Test\n",
            "    StandardTransform\n",
            "Transform: Compose(\n",
            "               Grayscale(num_output_channels=3)\n",
            "               Resize(size=(224, 224), interpolation=bilinear, max_size=None, antialias=warn)\n",
            "               ToTensor()\n",
            "               Normalize(mean=[0.485, 0.456, 0.406], std=[0.229, 0.224, 0.225])\n",
            "           )\n"
          ]
        }
      ]
    },
    {
      "cell_type": "code",
      "source": [
        "#defining data loaders for both the training and testing with batch size = 64\n",
        "dataloaders = {\n",
        "    'train':\n",
        "    torch.utils.data.DataLoader(data_sets['train'],\n",
        "                                batch_size=64,\n",
        "                                shuffle=True,\n",
        "                                num_workers=0),\n",
        "    'test':\n",
        "    torch.utils.data.DataLoader(data_sets['test'],\n",
        "                                batch_size=64,\n",
        "                                shuffle=False,\n",
        "                                num_workers=0)\n",
        "}"
      ],
      "metadata": {
        "id": "TQyY3OCr3C35"
      },
      "execution_count": 10,
      "outputs": []
    },
    {
      "cell_type": "code",
      "source": [
        "use_cuda = torch.cuda.is_available()\n",
        "\n",
        "device = torch.device(\"cuda:0\" if use_cuda else \"cpu\")\n",
        "print(device)"
      ],
      "metadata": {
        "id": "1tutQNES3EzM",
        "colab": {
          "base_uri": "https://localhost:8080/"
        },
        "outputId": "44705866-00fc-45ed-9485-10206fe614da"
      },
      "execution_count": 16,
      "outputs": [
        {
          "output_type": "stream",
          "name": "stdout",
          "text": [
            "cpu\n"
          ]
        }
      ]
    },
    {
      "cell_type": "code",
      "source": [
        "#modifying the final fully connected (fc) layer of the resnet50 model\n",
        "resnet50 = resnet50.cuda() if use_cuda else resnet50\n",
        "\n",
        "num_ftrs = resnet50.fc.in_features\n",
        "resnet50.fc = torch.nn.Linear(num_ftrs, 1024)\n",
        "resnet50.fc = nn.Sequential(\n",
        "    torch.nn.Dropout(0.5),\n",
        "    torch.nn.Linear(num_ftrs, 1024),\n",
        "    torch.nn.Dropout(0.2),\n",
        "    torch.nn.Linear(1024, 512),\n",
        "    torch.nn.Dropout(0.2),\n",
        "    torch.nn.Linear(512, 256),\n",
        "    torch.nn.Dropout(0.2),\n",
        "    torch.nn.Linear(256, 128),\n",
        "    torch.nn.Dropout(0.2),\n",
        "    torch.nn.Linear(128, len(data_sets['train'].classes))\n",
        ")"
      ],
      "metadata": {
        "id": "GszUJUKp3GhN"
      },
      "execution_count": 13,
      "outputs": []
    },
    {
      "cell_type": "code",
      "source": [
        "#after the training step and saving the weights and loosing the lab connection, i loaded the weights to the model\n",
        "weights_path = '/content/drive/MyDrive/gdg_challenge/Weights.pt'\n",
        "resnet50.load_state_dict(torch.load(weights_path, map_location=torch.device('cpu')))"
      ],
      "metadata": {
        "colab": {
          "base_uri": "https://localhost:8080/"
        },
        "id": "8pJGxphkfsKj",
        "outputId": "12e5b1a9-1af4-42b2-ca56-2994c6414efb"
      },
      "execution_count": 17,
      "outputs": [
        {
          "output_type": "execute_result",
          "data": {
            "text/plain": [
              "<All keys matched successfully>"
            ]
          },
          "metadata": {},
          "execution_count": 17
        }
      ]
    },
    {
      "cell_type": "code",
      "source": [
        "resnet50.fc = resnet50.fc.cuda() if use_cuda else resnet50.fc\n",
        "\n",
        "criterion = nn.CrossEntropyLoss()\n",
        "optimizer = optim.SGD(resnet50.parameters(), lr=0.001, momentum=0.9, weight_decay=5e-4)\n",
        "scheduler = torch.optim.lr_scheduler.StepLR(optimizer, step_size=10, gamma=0.1)"
      ],
      "metadata": {
        "id": "0hndtbF13JoB"
      },
      "execution_count": 14,
      "outputs": []
    },
    {
      "cell_type": "code",
      "source": [
        "#freezing the first 5 residual layers\n",
        "for name, param in resnet50.named_parameters():\n",
        "    if 'layer' in name and int(name.split('.')[1]) <= 5 :\n",
        "        param.requires_grad = False"
      ],
      "metadata": {
        "id": "fTmc6Kdngk55"
      },
      "execution_count": 27,
      "outputs": []
    },
    {
      "cell_type": "code",
      "source": [
        "from google.colab import drive\n",
        "drive.mount('/content/gdrive')"
      ],
      "metadata": {
        "colab": {
          "base_uri": "https://localhost:8080/"
        },
        "id": "d-nVOXybgmv8",
        "outputId": "35cc2ef0-0cd3-4f49-c75d-40ab9734b4c1"
      },
      "execution_count": 28,
      "outputs": [
        {
          "output_type": "stream",
          "name": "stdout",
          "text": [
            "Mounted at /content/gdrive\n"
          ]
        }
      ]
    },
    {
      "cell_type": "code",
      "source": [
        "save_path = '/content/gdrive/MyDrive/gdg_challenge/Weights.pt'\n"
      ],
      "metadata": {
        "id": "5zZYiI7PgqwH"
      },
      "execution_count": 29,
      "outputs": []
    },
    {
      "cell_type": "code",
      "source": [
        "train_acces, test_acces = [], []\n",
        "train_losses, test_losses = [], []\n",
        "total_step = len(dataloaders['train'])\n",
        "test_loss_min = np.Inf\n",
        "num_epochs = 15\n",
        "for epoch in range(num_epochs):\n",
        "    print(f'Epoch {epoch}\\n')\n",
        "\n",
        "    network_learned = False\n",
        "\n",
        "    for phase in ['train', 'test']:\n",
        "\n",
        "        running_loss = 0.0\n",
        "        running_corrects = 0\n",
        "\n",
        "        if phase == 'train':\n",
        "            resnet50.train()\n",
        "\n",
        "            for batch_idx, (inputs, labels) in enumerate(dataloaders[phase]):\n",
        "\n",
        "                if use_cuda:\n",
        "                    inputs = Variable(inputs.cuda())\n",
        "                    labels = Variable(labels.cuda())\n",
        "                else:\n",
        "                    inputs, labels = Variable(inputs), Variable(labels)\n",
        "\n",
        "                optimizer.zero_grad()\n",
        "                outputs = resnet50(inputs)\n",
        "                loss = criterion(outputs, labels)\n",
        "                loss.backward()\n",
        "                optimizer.step()\n",
        "\n",
        "                _, preds = torch.max(outputs, 1)\n",
        "                running_loss += loss.item()\n",
        "                running_corrects += torch.sum(preds == labels.data)\n",
        "                if (batch_idx) % 20 == 0:\n",
        "                    print ('Epoch [{}/{}], Step [{}/{}], Loss: {:.4f}'.format(epoch, num_epochs-1, batch_idx, total_step, loss.item()))\n",
        "            scheduler.step()\n",
        "        else:\n",
        "            with torch.no_grad():\n",
        "                resnet50.eval()\n",
        "                for inputs, labels in dataloaders[phase]:\n",
        "                    if use_cuda:\n",
        "                        inputs = Variable(inputs.cuda())\n",
        "                        labels = Variable(labels.cuda())\n",
        "                    else:\n",
        "                        inputs, labels = Variable(inputs), Variable(labels)\n",
        "\n",
        "                    outputs = resnet50(inputs)\n",
        "                    loss = criterion(outputs, labels)\n",
        "\n",
        "                    _, preds = torch.max(outputs, 1)\n",
        "                    running_loss += loss.item()\n",
        "                    running_corrects += torch.sum(preds == labels.data)\n",
        "            network_learned = running_loss < test_loss_min\n",
        "            test_loss_min = running_loss if network_learned else test_loss_min\n",
        "\n",
        "\n",
        "        epoch_loss = running_loss / len(data_sets[phase])\n",
        "        epoch_acc = running_corrects.double() / len(data_sets[phase])\n",
        "\n",
        "        if phase == 'train':\n",
        "            train_acces.append(epoch_acc * 100)\n",
        "            train_losses.append(epoch_loss)\n",
        "        else:\n",
        "            test_acces.append(epoch_acc * 100)\n",
        "            test_losses.append(epoch_loss)\n",
        "    print(f'\\ntrain-loss: {np.mean(train_losses):.4f}, train-acc: {train_acces[-1]:.4f}')\n",
        "    print(f'test loss: {np.mean(test_losses):.4f}, test acc: {test_acces[-1]:.4f}\\n')\n",
        "\n",
        "    if network_learned:\n",
        "        torch.save(resnet50.state_dict(), save_path)\n",
        "        print('Improvement-Detected, save-model')"
      ],
      "metadata": {
        "colab": {
          "base_uri": "https://localhost:8080/"
        },
        "id": "Z2BsSNWIhBo5",
        "outputId": "60a60e93-d0a9-4b5c-a393-e6af63e9da52"
      },
      "execution_count": 30,
      "outputs": [
        {
          "output_type": "stream",
          "name": "stdout",
          "text": [
            "Epoch 0\n",
            "\n",
            "Epoch [0/14], Step [0/938], Loss: 2.3131\n",
            "Epoch [0/14], Step [20/938], Loss: 2.3110\n",
            "Epoch [0/14], Step [40/938], Loss: 2.3029\n",
            "Epoch [0/14], Step [60/938], Loss: 2.2979\n",
            "Epoch [0/14], Step [80/938], Loss: 2.2834\n",
            "Epoch [0/14], Step [100/938], Loss: 2.2570\n",
            "Epoch [0/14], Step [120/938], Loss: 2.2218\n",
            "Epoch [0/14], Step [140/938], Loss: 2.2290\n",
            "Epoch [0/14], Step [160/938], Loss: 2.2091\n",
            "Epoch [0/14], Step [180/938], Loss: 2.1915\n",
            "Epoch [0/14], Step [200/938], Loss: 2.1763\n",
            "Epoch [0/14], Step [220/938], Loss: 2.2057\n",
            "Epoch [0/14], Step [240/938], Loss: 2.1222\n",
            "Epoch [0/14], Step [260/938], Loss: 2.0924\n",
            "Epoch [0/14], Step [280/938], Loss: 2.0528\n",
            "Epoch [0/14], Step [300/938], Loss: 1.9560\n",
            "Epoch [0/14], Step [320/938], Loss: 1.8610\n",
            "Epoch [0/14], Step [340/938], Loss: 1.7669\n",
            "Epoch [0/14], Step [360/938], Loss: 1.6146\n",
            "Epoch [0/14], Step [380/938], Loss: 1.6502\n",
            "Epoch [0/14], Step [400/938], Loss: 1.5597\n",
            "Epoch [0/14], Step [420/938], Loss: 1.6012\n",
            "Epoch [0/14], Step [440/938], Loss: 1.5863\n",
            "Epoch [0/14], Step [460/938], Loss: 1.6744\n",
            "Epoch [0/14], Step [480/938], Loss: 1.5104\n",
            "Epoch [0/14], Step [500/938], Loss: 1.3776\n",
            "Epoch [0/14], Step [520/938], Loss: 1.1561\n",
            "Epoch [0/14], Step [540/938], Loss: 1.1465\n",
            "Epoch [0/14], Step [560/938], Loss: 1.0724\n",
            "Epoch [0/14], Step [580/938], Loss: 1.0824\n",
            "Epoch [0/14], Step [600/938], Loss: 0.9126\n",
            "Epoch [0/14], Step [620/938], Loss: 0.9809\n",
            "Epoch [0/14], Step [640/938], Loss: 0.8638\n",
            "Epoch [0/14], Step [660/938], Loss: 0.9064\n",
            "Epoch [0/14], Step [680/938], Loss: 0.8826\n",
            "Epoch [0/14], Step [700/938], Loss: 0.8486\n",
            "Epoch [0/14], Step [720/938], Loss: 0.7828\n",
            "Epoch [0/14], Step [740/938], Loss: 0.8512\n",
            "Epoch [0/14], Step [760/938], Loss: 0.7648\n",
            "Epoch [0/14], Step [780/938], Loss: 0.6551\n",
            "Epoch [0/14], Step [800/938], Loss: 0.7826\n",
            "Epoch [0/14], Step [820/938], Loss: 0.6401\n",
            "Epoch [0/14], Step [840/938], Loss: 0.6501\n",
            "Epoch [0/14], Step [860/938], Loss: 0.7509\n",
            "Epoch [0/14], Step [880/938], Loss: 0.4784\n",
            "Epoch [0/14], Step [900/938], Loss: 0.6422\n",
            "Epoch [0/14], Step [920/938], Loss: 0.6022\n",
            "\n",
            "train-loss: 0.0224, train-acc: 52.3383\n",
            "test loss: 0.0450, test acc: 27.5600\n",
            "\n",
            "Improvement-Detected, save-model\n",
            "Epoch 1\n",
            "\n",
            "Epoch [1/14], Step [0/938], Loss: 0.6089\n",
            "Epoch [1/14], Step [20/938], Loss: 0.4026\n",
            "Epoch [1/14], Step [40/938], Loss: 0.6063\n",
            "Epoch [1/14], Step [60/938], Loss: 0.5500\n",
            "Epoch [1/14], Step [80/938], Loss: 0.4818\n",
            "Epoch [1/14], Step [100/938], Loss: 0.4531\n",
            "Epoch [1/14], Step [120/938], Loss: 0.4734\n",
            "Epoch [1/14], Step [140/938], Loss: 0.4038\n",
            "Epoch [1/14], Step [160/938], Loss: 0.6223\n",
            "Epoch [1/14], Step [180/938], Loss: 0.6111\n",
            "Epoch [1/14], Step [200/938], Loss: 0.6060\n",
            "Epoch [1/14], Step [220/938], Loss: 0.4605\n",
            "Epoch [1/14], Step [240/938], Loss: 0.5774\n",
            "Epoch [1/14], Step [260/938], Loss: 0.3584\n",
            "Epoch [1/14], Step [280/938], Loss: 0.3474\n",
            "Epoch [1/14], Step [300/938], Loss: 0.5670\n",
            "Epoch [1/14], Step [320/938], Loss: 0.3634\n",
            "Epoch [1/14], Step [340/938], Loss: 0.4118\n",
            "Epoch [1/14], Step [360/938], Loss: 0.3893\n",
            "Epoch [1/14], Step [380/938], Loss: 0.5065\n",
            "Epoch [1/14], Step [400/938], Loss: 0.6121\n",
            "Epoch [1/14], Step [420/938], Loss: 0.2719\n",
            "Epoch [1/14], Step [440/938], Loss: 0.4863\n",
            "Epoch [1/14], Step [460/938], Loss: 0.4799\n",
            "Epoch [1/14], Step [480/938], Loss: 0.4323\n",
            "Epoch [1/14], Step [500/938], Loss: 0.2613\n",
            "Epoch [1/14], Step [520/938], Loss: 0.4880\n",
            "Epoch [1/14], Step [540/938], Loss: 0.5227\n",
            "Epoch [1/14], Step [560/938], Loss: 0.3431\n",
            "Epoch [1/14], Step [580/938], Loss: 0.3648\n",
            "Epoch [1/14], Step [600/938], Loss: 0.4310\n",
            "Epoch [1/14], Step [620/938], Loss: 0.3146\n",
            "Epoch [1/14], Step [640/938], Loss: 0.3046\n",
            "Epoch [1/14], Step [660/938], Loss: 0.3048\n",
            "Epoch [1/14], Step [680/938], Loss: 0.2832\n",
            "Epoch [1/14], Step [700/938], Loss: 0.4165\n",
            "Epoch [1/14], Step [720/938], Loss: 0.2721\n",
            "Epoch [1/14], Step [740/938], Loss: 0.2401\n",
            "Epoch [1/14], Step [760/938], Loss: 0.3857\n",
            "Epoch [1/14], Step [780/938], Loss: 0.2739\n",
            "Epoch [1/14], Step [800/938], Loss: 0.2294\n",
            "Epoch [1/14], Step [820/938], Loss: 0.2027\n",
            "Epoch [1/14], Step [840/938], Loss: 0.3059\n",
            "Epoch [1/14], Step [860/938], Loss: 0.2511\n",
            "Epoch [1/14], Step [880/938], Loss: 0.3493\n",
            "Epoch [1/14], Step [900/938], Loss: 0.5383\n",
            "Epoch [1/14], Step [920/938], Loss: 0.3680\n",
            "\n",
            "train-loss: 0.0146, train-acc: 85.4750\n",
            "test loss: 0.0258, test acc: 86.6700\n",
            "\n",
            "Improvement-Detected, save-model\n",
            "Epoch 2\n",
            "\n",
            "Epoch [2/14], Step [0/938], Loss: 0.3151\n",
            "Epoch [2/14], Step [20/938], Loss: 0.4291\n",
            "Epoch [2/14], Step [40/938], Loss: 0.2897\n",
            "Epoch [2/14], Step [60/938], Loss: 0.3632\n",
            "Epoch [2/14], Step [80/938], Loss: 0.3198\n",
            "Epoch [2/14], Step [100/938], Loss: 0.2743\n",
            "Epoch [2/14], Step [120/938], Loss: 0.4306\n",
            "Epoch [2/14], Step [140/938], Loss: 0.4464\n",
            "Epoch [2/14], Step [160/938], Loss: 0.6306\n",
            "Epoch [2/14], Step [180/938], Loss: 0.3674\n",
            "Epoch [2/14], Step [200/938], Loss: 0.2166\n",
            "Epoch [2/14], Step [220/938], Loss: 0.2041\n",
            "Epoch [2/14], Step [240/938], Loss: 0.6360\n",
            "Epoch [2/14], Step [260/938], Loss: 0.2638\n",
            "Epoch [2/14], Step [280/938], Loss: 0.3731\n",
            "Epoch [2/14], Step [300/938], Loss: 0.3252\n",
            "Epoch [2/14], Step [320/938], Loss: 0.3943\n",
            "Epoch [2/14], Step [340/938], Loss: 0.2202\n",
            "Epoch [2/14], Step [360/938], Loss: 0.4682\n",
            "Epoch [2/14], Step [380/938], Loss: 0.2210\n",
            "Epoch [2/14], Step [400/938], Loss: 0.3434\n",
            "Epoch [2/14], Step [420/938], Loss: 0.2348\n",
            "Epoch [2/14], Step [440/938], Loss: 0.4334\n",
            "Epoch [2/14], Step [460/938], Loss: 0.2278\n",
            "Epoch [2/14], Step [480/938], Loss: 0.2744\n",
            "Epoch [2/14], Step [500/938], Loss: 0.4213\n",
            "Epoch [2/14], Step [520/938], Loss: 0.3411\n",
            "Epoch [2/14], Step [540/938], Loss: 0.2367\n",
            "Epoch [2/14], Step [560/938], Loss: 0.2642\n",
            "Epoch [2/14], Step [580/938], Loss: 0.3066\n",
            "Epoch [2/14], Step [600/938], Loss: 0.1484\n",
            "Epoch [2/14], Step [620/938], Loss: 0.3303\n",
            "Epoch [2/14], Step [640/938], Loss: 0.1698\n",
            "Epoch [2/14], Step [660/938], Loss: 0.2133\n",
            "Epoch [2/14], Step [680/938], Loss: 0.1963\n",
            "Epoch [2/14], Step [700/938], Loss: 0.3202\n",
            "Epoch [2/14], Step [720/938], Loss: 0.4379\n",
            "Epoch [2/14], Step [740/938], Loss: 0.2326\n",
            "Epoch [2/14], Step [760/938], Loss: 0.3008\n",
            "Epoch [2/14], Step [780/938], Loss: 0.2586\n",
            "Epoch [2/14], Step [800/938], Loss: 0.2347\n",
            "Epoch [2/14], Step [820/938], Loss: 0.2504\n",
            "Epoch [2/14], Step [840/938], Loss: 0.2298\n",
            "Epoch [2/14], Step [860/938], Loss: 0.2143\n",
            "Epoch [2/14], Step [880/938], Loss: 0.2816\n",
            "Epoch [2/14], Step [900/938], Loss: 0.1990\n",
            "Epoch [2/14], Step [920/938], Loss: 0.3068\n",
            "\n",
            "train-loss: 0.0114, train-acc: 89.8350\n",
            "test loss: 0.0199, test acc: 82.9900\n",
            "\n",
            "Epoch 3\n",
            "\n",
            "Epoch [3/14], Step [0/938], Loss: 0.2361\n",
            "Epoch [3/14], Step [20/938], Loss: 0.2986\n",
            "Epoch [3/14], Step [40/938], Loss: 0.2133\n",
            "Epoch [3/14], Step [60/938], Loss: 0.2137\n",
            "Epoch [3/14], Step [80/938], Loss: 0.5958\n",
            "Epoch [3/14], Step [100/938], Loss: 0.3271\n",
            "Epoch [3/14], Step [120/938], Loss: 0.2145\n",
            "Epoch [3/14], Step [140/938], Loss: 0.2480\n",
            "Epoch [3/14], Step [160/938], Loss: 0.1699\n",
            "Epoch [3/14], Step [180/938], Loss: 0.3762\n",
            "Epoch [3/14], Step [200/938], Loss: 0.2255\n",
            "Epoch [3/14], Step [220/938], Loss: 0.3139\n",
            "Epoch [3/14], Step [240/938], Loss: 0.2947\n",
            "Epoch [3/14], Step [260/938], Loss: 0.3476\n",
            "Epoch [3/14], Step [280/938], Loss: 0.2281\n",
            "Epoch [3/14], Step [300/938], Loss: 0.1480\n",
            "Epoch [3/14], Step [320/938], Loss: 0.3565\n",
            "Epoch [3/14], Step [340/938], Loss: 0.2350\n",
            "Epoch [3/14], Step [360/938], Loss: 0.1478\n",
            "Epoch [3/14], Step [380/938], Loss: 0.2553\n",
            "Epoch [3/14], Step [400/938], Loss: 0.2667\n",
            "Epoch [3/14], Step [420/938], Loss: 0.1559\n",
            "Epoch [3/14], Step [440/938], Loss: 0.1968\n",
            "Epoch [3/14], Step [460/938], Loss: 0.4419\n",
            "Epoch [3/14], Step [480/938], Loss: 0.3544\n",
            "Epoch [3/14], Step [500/938], Loss: 0.1963\n",
            "Epoch [3/14], Step [520/938], Loss: 0.2183\n",
            "Epoch [3/14], Step [540/938], Loss: 0.3797\n",
            "Epoch [3/14], Step [560/938], Loss: 0.3698\n",
            "Epoch [3/14], Step [580/938], Loss: 0.4238\n",
            "Epoch [3/14], Step [600/938], Loss: 0.4575\n",
            "Epoch [3/14], Step [620/938], Loss: 0.2246\n",
            "Epoch [3/14], Step [640/938], Loss: 0.1296\n",
            "Epoch [3/14], Step [660/938], Loss: 0.2873\n",
            "Epoch [3/14], Step [680/938], Loss: 0.0680\n",
            "Epoch [3/14], Step [700/938], Loss: 0.1603\n",
            "Epoch [3/14], Step [720/938], Loss: 0.2956\n",
            "Epoch [3/14], Step [740/938], Loss: 0.1776\n",
            "Epoch [3/14], Step [760/938], Loss: 0.1703\n",
            "Epoch [3/14], Step [780/938], Loss: 0.2458\n",
            "Epoch [3/14], Step [800/938], Loss: 0.1853\n",
            "Epoch [3/14], Step [820/938], Loss: 0.2468\n",
            "Epoch [3/14], Step [840/938], Loss: 0.3050\n",
            "Epoch [3/14], Step [860/938], Loss: 0.1388\n",
            "Epoch [3/14], Step [880/938], Loss: 0.2419\n",
            "Epoch [3/14], Step [900/938], Loss: 0.0719\n",
            "Epoch [3/14], Step [920/938], Loss: 0.2987\n",
            "\n",
            "train-loss: 0.0095, train-acc: 91.7200\n",
            "test loss: 0.0157, test acc: 93.5000\n",
            "\n",
            "Improvement-Detected, save-model\n",
            "Epoch 4\n",
            "\n",
            "Epoch [4/14], Step [0/938], Loss: 0.2531\n",
            "Epoch [4/14], Step [20/938], Loss: 0.3590\n",
            "Epoch [4/14], Step [40/938], Loss: 0.1893\n",
            "Epoch [4/14], Step [60/938], Loss: 0.1261\n",
            "Epoch [4/14], Step [80/938], Loss: 0.2975\n",
            "Epoch [4/14], Step [100/938], Loss: 0.1907\n",
            "Epoch [4/14], Step [120/938], Loss: 0.2299\n",
            "Epoch [4/14], Step [140/938], Loss: 0.1171\n",
            "Epoch [4/14], Step [160/938], Loss: 0.2623\n",
            "Epoch [4/14], Step [180/938], Loss: 0.1994\n",
            "Epoch [4/14], Step [200/938], Loss: 0.1775\n",
            "Epoch [4/14], Step [220/938], Loss: 0.0893\n",
            "Epoch [4/14], Step [240/938], Loss: 0.3483\n",
            "Epoch [4/14], Step [260/938], Loss: 0.3481\n",
            "Epoch [4/14], Step [280/938], Loss: 0.1160\n",
            "Epoch [4/14], Step [300/938], Loss: 0.2076\n",
            "Epoch [4/14], Step [320/938], Loss: 0.1311\n",
            "Epoch [4/14], Step [340/938], Loss: 0.3311\n",
            "Epoch [4/14], Step [360/938], Loss: 0.2133\n",
            "Epoch [4/14], Step [380/938], Loss: 0.2010\n",
            "Epoch [4/14], Step [400/938], Loss: 0.1835\n",
            "Epoch [4/14], Step [420/938], Loss: 0.2160\n",
            "Epoch [4/14], Step [440/938], Loss: 0.2781\n",
            "Epoch [4/14], Step [460/938], Loss: 0.2663\n",
            "Epoch [4/14], Step [480/938], Loss: 0.2902\n",
            "Epoch [4/14], Step [500/938], Loss: 0.2650\n",
            "Epoch [4/14], Step [520/938], Loss: 0.1941\n",
            "Epoch [4/14], Step [540/938], Loss: 0.0698\n",
            "Epoch [4/14], Step [560/938], Loss: 0.3607\n",
            "Epoch [4/14], Step [580/938], Loss: 0.2439\n",
            "Epoch [4/14], Step [600/938], Loss: 0.3083\n",
            "Epoch [4/14], Step [620/938], Loss: 0.1401\n",
            "Epoch [4/14], Step [640/938], Loss: 0.1853\n",
            "Epoch [4/14], Step [660/938], Loss: 0.0883\n",
            "Epoch [4/14], Step [680/938], Loss: 0.1584\n",
            "Epoch [4/14], Step [700/938], Loss: 0.2931\n",
            "Epoch [4/14], Step [720/938], Loss: 0.2860\n",
            "Epoch [4/14], Step [740/938], Loss: 0.1114\n",
            "Epoch [4/14], Step [760/938], Loss: 0.2398\n",
            "Epoch [4/14], Step [780/938], Loss: 0.1074\n",
            "Epoch [4/14], Step [800/938], Loss: 0.2790\n",
            "Epoch [4/14], Step [820/938], Loss: 0.2169\n",
            "Epoch [4/14], Step [840/938], Loss: 0.1264\n",
            "Epoch [4/14], Step [860/938], Loss: 0.2942\n",
            "Epoch [4/14], Step [880/938], Loss: 0.2917\n",
            "Epoch [4/14], Step [900/938], Loss: 0.1786\n",
            "Epoch [4/14], Step [920/938], Loss: 0.2369\n",
            "\n",
            "train-loss: 0.0084, train-acc: 92.6483\n",
            "test loss: 0.0135, test acc: 90.7800\n",
            "\n",
            "Epoch 5\n",
            "\n",
            "Epoch [5/14], Step [0/938], Loss: 0.2711\n",
            "Epoch [5/14], Step [20/938], Loss: 0.3214\n",
            "Epoch [5/14], Step [40/938], Loss: 0.1790\n",
            "Epoch [5/14], Step [60/938], Loss: 0.2619\n",
            "Epoch [5/14], Step [80/938], Loss: 0.3449\n",
            "Epoch [5/14], Step [100/938], Loss: 0.2659\n",
            "Epoch [5/14], Step [120/938], Loss: 0.2042\n",
            "Epoch [5/14], Step [140/938], Loss: 0.1326\n",
            "Epoch [5/14], Step [160/938], Loss: 0.1798\n",
            "Epoch [5/14], Step [180/938], Loss: 0.2698\n",
            "Epoch [5/14], Step [200/938], Loss: 0.3479\n",
            "Epoch [5/14], Step [220/938], Loss: 0.1505\n",
            "Epoch [5/14], Step [240/938], Loss: 0.1411\n",
            "Epoch [5/14], Step [260/938], Loss: 0.1927\n",
            "Epoch [5/14], Step [280/938], Loss: 0.2033\n",
            "Epoch [5/14], Step [300/938], Loss: 0.2675\n",
            "Epoch [5/14], Step [320/938], Loss: 0.1146\n",
            "Epoch [5/14], Step [340/938], Loss: 0.1792\n",
            "Epoch [5/14], Step [360/938], Loss: 0.2809\n",
            "Epoch [5/14], Step [380/938], Loss: 0.3490\n",
            "Epoch [5/14], Step [400/938], Loss: 0.2962\n",
            "Epoch [5/14], Step [420/938], Loss: 0.1898\n",
            "Epoch [5/14], Step [440/938], Loss: 0.1864\n",
            "Epoch [5/14], Step [460/938], Loss: 0.2712\n",
            "Epoch [5/14], Step [480/938], Loss: 0.1295\n",
            "Epoch [5/14], Step [500/938], Loss: 0.1692\n",
            "Epoch [5/14], Step [520/938], Loss: 0.2504\n",
            "Epoch [5/14], Step [540/938], Loss: 0.3808\n",
            "Epoch [5/14], Step [560/938], Loss: 0.3210\n",
            "Epoch [5/14], Step [580/938], Loss: 0.3152\n",
            "Epoch [5/14], Step [600/938], Loss: 0.2903\n",
            "Epoch [5/14], Step [620/938], Loss: 0.1474\n",
            "Epoch [5/14], Step [640/938], Loss: 0.2588\n",
            "Epoch [5/14], Step [660/938], Loss: 0.2493\n",
            "Epoch [5/14], Step [680/938], Loss: 0.0896\n",
            "Epoch [5/14], Step [700/938], Loss: 0.1693\n",
            "Epoch [5/14], Step [720/938], Loss: 0.2658\n",
            "Epoch [5/14], Step [740/938], Loss: 0.3480\n",
            "Epoch [5/14], Step [760/938], Loss: 0.1604\n",
            "Epoch [5/14], Step [780/938], Loss: 0.3919\n",
            "Epoch [5/14], Step [800/938], Loss: 0.3058\n",
            "Epoch [5/14], Step [820/938], Loss: 0.1658\n",
            "Epoch [5/14], Step [840/938], Loss: 0.1602\n",
            "Epoch [5/14], Step [860/938], Loss: 0.1484\n",
            "Epoch [5/14], Step [880/938], Loss: 0.2781\n",
            "Epoch [5/14], Step [900/938], Loss: 0.1251\n",
            "Epoch [5/14], Step [920/938], Loss: 0.3309\n",
            "\n",
            "train-loss: 0.0075, train-acc: 93.1433\n",
            "test loss: 0.0119, test acc: 91.7400\n",
            "\n",
            "Epoch 6\n",
            "\n",
            "Epoch [6/14], Step [0/938], Loss: 0.1865\n",
            "Epoch [6/14], Step [20/938], Loss: 0.1117\n",
            "Epoch [6/14], Step [40/938], Loss: 0.1459\n",
            "Epoch [6/14], Step [60/938], Loss: 0.3071\n",
            "Epoch [6/14], Step [80/938], Loss: 0.2714\n",
            "Epoch [6/14], Step [100/938], Loss: 0.1406\n",
            "Epoch [6/14], Step [120/938], Loss: 0.2063\n",
            "Epoch [6/14], Step [140/938], Loss: 0.1392\n",
            "Epoch [6/14], Step [160/938], Loss: 0.2421\n",
            "Epoch [6/14], Step [180/938], Loss: 0.0679\n",
            "Epoch [6/14], Step [200/938], Loss: 0.3262\n",
            "Epoch [6/14], Step [220/938], Loss: 0.2597\n",
            "Epoch [6/14], Step [240/938], Loss: 0.2236\n",
            "Epoch [6/14], Step [260/938], Loss: 0.1320\n",
            "Epoch [6/14], Step [280/938], Loss: 0.2153\n",
            "Epoch [6/14], Step [300/938], Loss: 0.1338\n",
            "Epoch [6/14], Step [320/938], Loss: 0.1837\n",
            "Epoch [6/14], Step [340/938], Loss: 0.1611\n",
            "Epoch [6/14], Step [360/938], Loss: 0.3227\n",
            "Epoch [6/14], Step [380/938], Loss: 0.1846\n",
            "Epoch [6/14], Step [400/938], Loss: 0.1563\n",
            "Epoch [6/14], Step [420/938], Loss: 0.2997\n",
            "Epoch [6/14], Step [440/938], Loss: 0.2928\n",
            "Epoch [6/14], Step [460/938], Loss: 0.4534\n",
            "Epoch [6/14], Step [480/938], Loss: 0.1450\n",
            "Epoch [6/14], Step [500/938], Loss: 0.2203\n",
            "Epoch [6/14], Step [520/938], Loss: 0.2381\n",
            "Epoch [6/14], Step [540/938], Loss: 0.2933\n",
            "Epoch [6/14], Step [560/938], Loss: 0.2538\n",
            "Epoch [6/14], Step [580/938], Loss: 0.2690\n",
            "Epoch [6/14], Step [600/938], Loss: 0.1646\n",
            "Epoch [6/14], Step [620/938], Loss: 0.2139\n",
            "Epoch [6/14], Step [640/938], Loss: 0.2162\n",
            "Epoch [6/14], Step [660/938], Loss: 0.0791\n",
            "Epoch [6/14], Step [680/938], Loss: 0.1568\n",
            "Epoch [6/14], Step [700/938], Loss: 0.1012\n",
            "Epoch [6/14], Step [720/938], Loss: 0.1904\n",
            "Epoch [6/14], Step [740/938], Loss: 0.2982\n",
            "Epoch [6/14], Step [760/938], Loss: 0.1188\n",
            "Epoch [6/14], Step [780/938], Loss: 0.3155\n",
            "Epoch [6/14], Step [800/938], Loss: 0.1304\n",
            "Epoch [6/14], Step [820/938], Loss: 0.1189\n",
            "Epoch [6/14], Step [840/938], Loss: 0.1345\n",
            "Epoch [6/14], Step [860/938], Loss: 0.2029\n",
            "Epoch [6/14], Step [880/938], Loss: 0.1245\n",
            "Epoch [6/14], Step [900/938], Loss: 0.1757\n",
            "Epoch [6/14], Step [920/938], Loss: 0.0930\n",
            "\n",
            "train-loss: 0.0069, train-acc: 93.6617\n",
            "test loss: 0.0107, test acc: 92.7900\n",
            "\n",
            "Improvement-Detected, save-model\n",
            "Epoch 7\n",
            "\n",
            "Epoch [7/14], Step [0/938], Loss: 0.1888\n",
            "Epoch [7/14], Step [20/938], Loss: 0.1170\n",
            "Epoch [7/14], Step [40/938], Loss: 0.1081\n",
            "Epoch [7/14], Step [60/938], Loss: 0.1917\n",
            "Epoch [7/14], Step [80/938], Loss: 0.0961\n",
            "Epoch [7/14], Step [100/938], Loss: 0.1966\n",
            "Epoch [7/14], Step [120/938], Loss: 0.1955\n",
            "Epoch [7/14], Step [140/938], Loss: 0.1579\n",
            "Epoch [7/14], Step [160/938], Loss: 0.1501\n",
            "Epoch [7/14], Step [180/938], Loss: 0.0610\n",
            "Epoch [7/14], Step [200/938], Loss: 0.1659\n",
            "Epoch [7/14], Step [220/938], Loss: 0.1311\n",
            "Epoch [7/14], Step [240/938], Loss: 0.1764\n",
            "Epoch [7/14], Step [260/938], Loss: 0.1067\n",
            "Epoch [7/14], Step [280/938], Loss: 0.1590\n",
            "Epoch [7/14], Step [300/938], Loss: 0.2043\n",
            "Epoch [7/14], Step [320/938], Loss: 0.2200\n",
            "Epoch [7/14], Step [340/938], Loss: 0.0951\n",
            "Epoch [7/14], Step [360/938], Loss: 0.1708\n",
            "Epoch [7/14], Step [380/938], Loss: 0.0589\n",
            "Epoch [7/14], Step [400/938], Loss: 0.2252\n",
            "Epoch [7/14], Step [420/938], Loss: 0.2244\n",
            "Epoch [7/14], Step [440/938], Loss: 0.1916\n",
            "Epoch [7/14], Step [460/938], Loss: 0.0508\n",
            "Epoch [7/14], Step [480/938], Loss: 0.0518\n",
            "Epoch [7/14], Step [500/938], Loss: 0.2497\n",
            "Epoch [7/14], Step [520/938], Loss: 0.1907\n",
            "Epoch [7/14], Step [540/938], Loss: 0.1433\n",
            "Epoch [7/14], Step [560/938], Loss: 0.2642\n",
            "Epoch [7/14], Step [580/938], Loss: 0.2065\n",
            "Epoch [7/14], Step [600/938], Loss: 0.0865\n",
            "Epoch [7/14], Step [620/938], Loss: 0.3403\n",
            "Epoch [7/14], Step [640/938], Loss: 0.1276\n",
            "Epoch [7/14], Step [660/938], Loss: 0.1835\n",
            "Epoch [7/14], Step [680/938], Loss: 0.3065\n",
            "Epoch [7/14], Step [700/938], Loss: 0.0363\n",
            "Epoch [7/14], Step [720/938], Loss: 0.0674\n",
            "Epoch [7/14], Step [740/938], Loss: 0.2568\n",
            "Epoch [7/14], Step [760/938], Loss: 0.1099\n",
            "Epoch [7/14], Step [780/938], Loss: 0.2060\n",
            "Epoch [7/14], Step [800/938], Loss: 0.0971\n",
            "Epoch [7/14], Step [820/938], Loss: 0.1413\n",
            "Epoch [7/14], Step [840/938], Loss: 0.0879\n",
            "Epoch [7/14], Step [860/938], Loss: 0.1123\n",
            "Epoch [7/14], Step [880/938], Loss: 0.3042\n",
            "Epoch [7/14], Step [900/938], Loss: 0.1190\n",
            "Epoch [7/14], Step [920/938], Loss: 0.1506\n",
            "\n",
            "train-loss: 0.0064, train-acc: 94.1333\n",
            "test loss: 0.0097, test acc: 95.4000\n",
            "\n",
            "Improvement-Detected, save-model\n",
            "Epoch 8\n",
            "\n",
            "Epoch [8/14], Step [0/938], Loss: 0.2505\n",
            "Epoch [8/14], Step [20/938], Loss: 0.1302\n",
            "Epoch [8/14], Step [40/938], Loss: 0.1282\n",
            "Epoch [8/14], Step [60/938], Loss: 0.1579\n",
            "Epoch [8/14], Step [80/938], Loss: 0.2707\n",
            "Epoch [8/14], Step [100/938], Loss: 0.1834\n",
            "Epoch [8/14], Step [120/938], Loss: 0.0679\n",
            "Epoch [8/14], Step [140/938], Loss: 0.2323\n",
            "Epoch [8/14], Step [160/938], Loss: 0.2077\n",
            "Epoch [8/14], Step [180/938], Loss: 0.1167\n",
            "Epoch [8/14], Step [200/938], Loss: 0.1217\n",
            "Epoch [8/14], Step [220/938], Loss: 0.1581\n",
            "Epoch [8/14], Step [240/938], Loss: 0.2109\n",
            "Epoch [8/14], Step [260/938], Loss: 0.1123\n",
            "Epoch [8/14], Step [280/938], Loss: 0.0766\n",
            "Epoch [8/14], Step [300/938], Loss: 0.2681\n",
            "Epoch [8/14], Step [320/938], Loss: 0.1128\n",
            "Epoch [8/14], Step [340/938], Loss: 0.1045\n",
            "Epoch [8/14], Step [360/938], Loss: 0.1389\n",
            "Epoch [8/14], Step [380/938], Loss: 0.1310\n",
            "Epoch [8/14], Step [400/938], Loss: 0.1962\n",
            "Epoch [8/14], Step [420/938], Loss: 0.2037\n",
            "Epoch [8/14], Step [440/938], Loss: 0.1039\n",
            "Epoch [8/14], Step [460/938], Loss: 0.2066\n",
            "Epoch [8/14], Step [480/938], Loss: 0.1347\n",
            "Epoch [8/14], Step [500/938], Loss: 0.2108\n",
            "Epoch [8/14], Step [520/938], Loss: 0.1858\n",
            "Epoch [8/14], Step [540/938], Loss: 0.1094\n",
            "Epoch [8/14], Step [560/938], Loss: 0.0704\n",
            "Epoch [8/14], Step [580/938], Loss: 0.1843\n",
            "Epoch [8/14], Step [600/938], Loss: 0.2984\n",
            "Epoch [8/14], Step [620/938], Loss: 0.1544\n",
            "Epoch [8/14], Step [640/938], Loss: 0.0958\n",
            "Epoch [8/14], Step [660/938], Loss: 0.2162\n",
            "Epoch [8/14], Step [680/938], Loss: 0.1349\n",
            "Epoch [8/14], Step [700/938], Loss: 0.1203\n",
            "Epoch [8/14], Step [720/938], Loss: 0.0646\n",
            "Epoch [8/14], Step [740/938], Loss: 0.0667\n",
            "Epoch [8/14], Step [760/938], Loss: 0.1232\n",
            "Epoch [8/14], Step [780/938], Loss: 0.1070\n",
            "Epoch [8/14], Step [800/938], Loss: 0.2097\n",
            "Epoch [8/14], Step [820/938], Loss: 0.1324\n",
            "Epoch [8/14], Step [840/938], Loss: 0.0834\n",
            "Epoch [8/14], Step [860/938], Loss: 0.2809\n",
            "Epoch [8/14], Step [880/938], Loss: 0.1290\n",
            "Epoch [8/14], Step [900/938], Loss: 0.2442\n",
            "Epoch [8/14], Step [920/938], Loss: 0.1799\n",
            "\n",
            "train-loss: 0.0060, train-acc: 94.2300\n",
            "test loss: 0.0089, test acc: 94.7700\n",
            "\n",
            "Epoch 9\n",
            "\n",
            "Epoch [9/14], Step [0/938], Loss: 0.1935\n",
            "Epoch [9/14], Step [20/938], Loss: 0.1316\n",
            "Epoch [9/14], Step [40/938], Loss: 0.0870\n",
            "Epoch [9/14], Step [60/938], Loss: 0.1423\n",
            "Epoch [9/14], Step [80/938], Loss: 0.1599\n",
            "Epoch [9/14], Step [100/938], Loss: 0.0880\n",
            "Epoch [9/14], Step [120/938], Loss: 0.0915\n",
            "Epoch [9/14], Step [140/938], Loss: 0.1297\n",
            "Epoch [9/14], Step [160/938], Loss: 0.0686\n",
            "Epoch [9/14], Step [180/938], Loss: 0.1747\n",
            "Epoch [9/14], Step [200/938], Loss: 0.1545\n",
            "Epoch [9/14], Step [220/938], Loss: 0.4035\n",
            "Epoch [9/14], Step [240/938], Loss: 0.1216\n",
            "Epoch [9/14], Step [260/938], Loss: 0.1630\n",
            "Epoch [9/14], Step [280/938], Loss: 0.1567\n",
            "Epoch [9/14], Step [300/938], Loss: 0.2519\n",
            "Epoch [9/14], Step [320/938], Loss: 0.1067\n",
            "Epoch [9/14], Step [340/938], Loss: 0.2146\n",
            "Epoch [9/14], Step [360/938], Loss: 0.1309\n",
            "Epoch [9/14], Step [380/938], Loss: 0.1755\n",
            "Epoch [9/14], Step [400/938], Loss: 0.2154\n",
            "Epoch [9/14], Step [420/938], Loss: 0.1168\n",
            "Epoch [9/14], Step [440/938], Loss: 0.2349\n",
            "Epoch [9/14], Step [460/938], Loss: 0.0689\n",
            "Epoch [9/14], Step [480/938], Loss: 0.1361\n",
            "Epoch [9/14], Step [500/938], Loss: 0.1535\n",
            "Epoch [9/14], Step [520/938], Loss: 0.0793\n",
            "Epoch [9/14], Step [540/938], Loss: 0.0524\n",
            "Epoch [9/14], Step [560/938], Loss: 0.2640\n",
            "Epoch [9/14], Step [580/938], Loss: 0.2776\n",
            "Epoch [9/14], Step [600/938], Loss: 0.1374\n",
            "Epoch [9/14], Step [620/938], Loss: 0.2795\n",
            "Epoch [9/14], Step [640/938], Loss: 0.2114\n",
            "Epoch [9/14], Step [660/938], Loss: 0.0650\n",
            "Epoch [9/14], Step [680/938], Loss: 0.1186\n",
            "Epoch [9/14], Step [700/938], Loss: 0.0725\n",
            "Epoch [9/14], Step [720/938], Loss: 0.0578\n",
            "Epoch [9/14], Step [740/938], Loss: 0.0745\n",
            "Epoch [9/14], Step [760/938], Loss: 0.0604\n",
            "Epoch [9/14], Step [780/938], Loss: 0.1125\n",
            "Epoch [9/14], Step [800/938], Loss: 0.1416\n",
            "Epoch [9/14], Step [820/938], Loss: 0.1765\n",
            "Epoch [9/14], Step [840/938], Loss: 0.0558\n",
            "Epoch [9/14], Step [860/938], Loss: 0.1382\n",
            "Epoch [9/14], Step [880/938], Loss: 0.0796\n",
            "Epoch [9/14], Step [900/938], Loss: 0.2322\n",
            "Epoch [9/14], Step [920/938], Loss: 0.3948\n",
            "\n",
            "train-loss: 0.0057, train-acc: 94.4817\n",
            "test loss: 0.0082, test acc: 96.4000\n",
            "\n",
            "Improvement-Detected, save-model\n",
            "Epoch 10\n",
            "\n",
            "Epoch [10/14], Step [0/938], Loss: 0.2280\n",
            "Epoch [10/14], Step [20/938], Loss: 0.1280\n",
            "Epoch [10/14], Step [40/938], Loss: 0.2579\n",
            "Epoch [10/14], Step [60/938], Loss: 0.2898\n",
            "Epoch [10/14], Step [80/938], Loss: 0.2227\n",
            "Epoch [10/14], Step [100/938], Loss: 0.1208\n",
            "Epoch [10/14], Step [120/938], Loss: 0.2452\n",
            "Epoch [10/14], Step [140/938], Loss: 0.3245\n",
            "Epoch [10/14], Step [160/938], Loss: 0.2412\n",
            "Epoch [10/14], Step [180/938], Loss: 0.2410\n",
            "Epoch [10/14], Step [200/938], Loss: 0.1330\n",
            "Epoch [10/14], Step [220/938], Loss: 0.1401\n",
            "Epoch [10/14], Step [240/938], Loss: 0.2225\n",
            "Epoch [10/14], Step [260/938], Loss: 0.1652\n",
            "Epoch [10/14], Step [280/938], Loss: 0.1977\n",
            "Epoch [10/14], Step [300/938], Loss: 0.0951\n",
            "Epoch [10/14], Step [320/938], Loss: 0.0826\n",
            "Epoch [10/14], Step [340/938], Loss: 0.0354\n",
            "Epoch [10/14], Step [360/938], Loss: 0.0704\n",
            "Epoch [10/14], Step [380/938], Loss: 0.0725\n",
            "Epoch [10/14], Step [400/938], Loss: 0.1051\n",
            "Epoch [10/14], Step [420/938], Loss: 0.0808\n",
            "Epoch [10/14], Step [440/938], Loss: 0.1348\n",
            "Epoch [10/14], Step [460/938], Loss: 0.1695\n",
            "Epoch [10/14], Step [480/938], Loss: 0.1396\n",
            "Epoch [10/14], Step [500/938], Loss: 0.0926\n",
            "Epoch [10/14], Step [520/938], Loss: 0.1624\n",
            "Epoch [10/14], Step [540/938], Loss: 0.1431\n",
            "Epoch [10/14], Step [560/938], Loss: 0.2005\n",
            "Epoch [10/14], Step [580/938], Loss: 0.1090\n",
            "Epoch [10/14], Step [600/938], Loss: 0.1251\n",
            "Epoch [10/14], Step [620/938], Loss: 0.1609\n",
            "Epoch [10/14], Step [640/938], Loss: 0.0627\n",
            "Epoch [10/14], Step [660/938], Loss: 0.0534\n",
            "Epoch [10/14], Step [680/938], Loss: 0.1060\n",
            "Epoch [10/14], Step [700/938], Loss: 0.1353\n",
            "Epoch [10/14], Step [720/938], Loss: 0.2205\n",
            "Epoch [10/14], Step [740/938], Loss: 0.2522\n",
            "Epoch [10/14], Step [760/938], Loss: 0.1394\n",
            "Epoch [10/14], Step [780/938], Loss: 0.1480\n",
            "Epoch [10/14], Step [800/938], Loss: 0.0778\n",
            "Epoch [10/14], Step [820/938], Loss: 0.3447\n",
            "Epoch [10/14], Step [840/938], Loss: 0.1888\n",
            "Epoch [10/14], Step [860/938], Loss: 0.1746\n",
            "Epoch [10/14], Step [880/938], Loss: 0.1117\n",
            "Epoch [10/14], Step [900/938], Loss: 0.2745\n",
            "Epoch [10/14], Step [920/938], Loss: 0.0876\n",
            "\n",
            "train-loss: 0.0054, train-acc: 95.0950\n",
            "test loss: 0.0076, test acc: 97.7300\n",
            "\n",
            "Improvement-Detected, save-model\n",
            "Epoch 11\n",
            "\n",
            "Epoch [11/14], Step [0/938], Loss: 0.1322\n",
            "Epoch [11/14], Step [20/938], Loss: 0.1320\n",
            "Epoch [11/14], Step [40/938], Loss: 0.1717\n",
            "Epoch [11/14], Step [60/938], Loss: 0.1690\n",
            "Epoch [11/14], Step [80/938], Loss: 0.1516\n",
            "Epoch [11/14], Step [100/938], Loss: 0.1052\n",
            "Epoch [11/14], Step [120/938], Loss: 0.1757\n",
            "Epoch [11/14], Step [140/938], Loss: 0.1019\n",
            "Epoch [11/14], Step [160/938], Loss: 0.2192\n",
            "Epoch [11/14], Step [180/938], Loss: 0.2305\n",
            "Epoch [11/14], Step [200/938], Loss: 0.2174\n",
            "Epoch [11/14], Step [220/938], Loss: 0.1878\n",
            "Epoch [11/14], Step [240/938], Loss: 0.1382\n",
            "Epoch [11/14], Step [260/938], Loss: 0.0709\n",
            "Epoch [11/14], Step [280/938], Loss: 0.1370\n",
            "Epoch [11/14], Step [300/938], Loss: 0.2128\n",
            "Epoch [11/14], Step [320/938], Loss: 0.2030\n",
            "Epoch [11/14], Step [340/938], Loss: 0.1110\n",
            "Epoch [11/14], Step [360/938], Loss: 0.1299\n",
            "Epoch [11/14], Step [380/938], Loss: 0.1286\n",
            "Epoch [11/14], Step [400/938], Loss: 0.1239\n",
            "Epoch [11/14], Step [420/938], Loss: 0.2133\n",
            "Epoch [11/14], Step [440/938], Loss: 0.2562\n",
            "Epoch [11/14], Step [460/938], Loss: 0.2199\n",
            "Epoch [11/14], Step [480/938], Loss: 0.2340\n",
            "Epoch [11/14], Step [500/938], Loss: 0.0635\n",
            "Epoch [11/14], Step [520/938], Loss: 0.3780\n",
            "Epoch [11/14], Step [540/938], Loss: 0.1736\n",
            "Epoch [11/14], Step [560/938], Loss: 0.1833\n",
            "Epoch [11/14], Step [580/938], Loss: 0.1261\n",
            "Epoch [11/14], Step [600/938], Loss: 0.1054\n",
            "Epoch [11/14], Step [620/938], Loss: 0.2798\n",
            "Epoch [11/14], Step [640/938], Loss: 0.0405\n",
            "Epoch [11/14], Step [660/938], Loss: 0.1047\n",
            "Epoch [11/14], Step [680/938], Loss: 0.2863\n",
            "Epoch [11/14], Step [700/938], Loss: 0.2053\n",
            "Epoch [11/14], Step [720/938], Loss: 0.2600\n",
            "Epoch [11/14], Step [740/938], Loss: 0.1190\n",
            "Epoch [11/14], Step [760/938], Loss: 0.1553\n",
            "Epoch [11/14], Step [780/938], Loss: 0.2712\n",
            "Epoch [11/14], Step [800/938], Loss: 0.1694\n",
            "Epoch [11/14], Step [820/938], Loss: 0.2817\n",
            "Epoch [11/14], Step [840/938], Loss: 0.2177\n",
            "Epoch [11/14], Step [860/938], Loss: 0.1540\n",
            "Epoch [11/14], Step [880/938], Loss: 0.1967\n",
            "Epoch [11/14], Step [900/938], Loss: 0.1480\n",
            "Epoch [11/14], Step [920/938], Loss: 0.2079\n",
            "\n",
            "train-loss: 0.0051, train-acc: 95.1600\n",
            "test loss: 0.0071, test acc: 97.2500\n",
            "\n",
            "Epoch 12\n",
            "\n",
            "Epoch [12/14], Step [0/938], Loss: 0.1041\n",
            "Epoch [12/14], Step [20/938], Loss: 0.0771\n",
            "Epoch [12/14], Step [40/938], Loss: 0.0913\n",
            "Epoch [12/14], Step [60/938], Loss: 0.3048\n",
            "Epoch [12/14], Step [80/938], Loss: 0.1409\n",
            "Epoch [12/14], Step [100/938], Loss: 0.1804\n",
            "Epoch [12/14], Step [120/938], Loss: 0.1613\n",
            "Epoch [12/14], Step [140/938], Loss: 0.1676\n",
            "Epoch [12/14], Step [160/938], Loss: 0.1393\n",
            "Epoch [12/14], Step [180/938], Loss: 0.2856\n",
            "Epoch [12/14], Step [200/938], Loss: 0.0955\n",
            "Epoch [12/14], Step [220/938], Loss: 0.3215\n",
            "Epoch [12/14], Step [240/938], Loss: 0.1789\n",
            "Epoch [12/14], Step [260/938], Loss: 0.1469\n",
            "Epoch [12/14], Step [280/938], Loss: 0.2780\n",
            "Epoch [12/14], Step [300/938], Loss: 0.2389\n",
            "Epoch [12/14], Step [320/938], Loss: 0.3089\n",
            "Epoch [12/14], Step [340/938], Loss: 0.0629\n",
            "Epoch [12/14], Step [360/938], Loss: 0.1370\n",
            "Epoch [12/14], Step [380/938], Loss: 0.1101\n",
            "Epoch [12/14], Step [400/938], Loss: 0.1652\n",
            "Epoch [12/14], Step [420/938], Loss: 0.0697\n",
            "Epoch [12/14], Step [440/938], Loss: 0.1727\n",
            "Epoch [12/14], Step [460/938], Loss: 0.1314\n",
            "Epoch [12/14], Step [480/938], Loss: 0.0343\n",
            "Epoch [12/14], Step [500/938], Loss: 0.0902\n",
            "Epoch [12/14], Step [520/938], Loss: 0.1032\n",
            "Epoch [12/14], Step [540/938], Loss: 0.0541\n",
            "Epoch [12/14], Step [560/938], Loss: 0.3237\n",
            "Epoch [12/14], Step [580/938], Loss: 0.1930\n",
            "Epoch [12/14], Step [600/938], Loss: 0.1956\n",
            "Epoch [12/14], Step [620/938], Loss: 0.0617\n",
            "Epoch [12/14], Step [640/938], Loss: 0.1597\n",
            "Epoch [12/14], Step [660/938], Loss: 0.0957\n",
            "Epoch [12/14], Step [680/938], Loss: 0.1544\n",
            "Epoch [12/14], Step [700/938], Loss: 0.1241\n",
            "Epoch [12/14], Step [720/938], Loss: 0.1525\n",
            "Epoch [12/14], Step [740/938], Loss: 0.2409\n",
            "Epoch [12/14], Step [760/938], Loss: 0.1001\n",
            "Epoch [12/14], Step [780/938], Loss: 0.1983\n",
            "Epoch [12/14], Step [800/938], Loss: 0.1051\n",
            "Epoch [12/14], Step [820/938], Loss: 0.0521\n",
            "Epoch [12/14], Step [840/938], Loss: 0.3524\n",
            "Epoch [12/14], Step [860/938], Loss: 0.1589\n",
            "Epoch [12/14], Step [880/938], Loss: 0.0684\n",
            "Epoch [12/14], Step [900/938], Loss: 0.0941\n",
            "Epoch [12/14], Step [920/938], Loss: 0.1196\n",
            "\n",
            "train-loss: 0.0049, train-acc: 95.2283\n",
            "test loss: 0.0066, test acc: 97.7100\n",
            "\n",
            "Improvement-Detected, save-model\n",
            "Epoch 13\n",
            "\n",
            "Epoch [13/14], Step [0/938], Loss: 0.0563\n",
            "Epoch [13/14], Step [20/938], Loss: 0.0736\n",
            "Epoch [13/14], Step [40/938], Loss: 0.1110\n",
            "Epoch [13/14], Step [60/938], Loss: 0.0854\n",
            "Epoch [13/14], Step [80/938], Loss: 0.1432\n",
            "Epoch [13/14], Step [100/938], Loss: 0.0948\n",
            "Epoch [13/14], Step [120/938], Loss: 0.2091\n",
            "Epoch [13/14], Step [140/938], Loss: 0.1447\n",
            "Epoch [13/14], Step [160/938], Loss: 0.1517\n",
            "Epoch [13/14], Step [180/938], Loss: 0.1219\n",
            "Epoch [13/14], Step [200/938], Loss: 0.0740\n",
            "Epoch [13/14], Step [220/938], Loss: 0.1026\n",
            "Epoch [13/14], Step [240/938], Loss: 0.1504\n",
            "Epoch [13/14], Step [260/938], Loss: 0.1916\n",
            "Epoch [13/14], Step [280/938], Loss: 0.0781\n",
            "Epoch [13/14], Step [300/938], Loss: 0.0934\n",
            "Epoch [13/14], Step [320/938], Loss: 0.0720\n",
            "Epoch [13/14], Step [340/938], Loss: 0.0734\n",
            "Epoch [13/14], Step [360/938], Loss: 0.0945\n",
            "Epoch [13/14], Step [380/938], Loss: 0.2011\n",
            "Epoch [13/14], Step [400/938], Loss: 0.0869\n",
            "Epoch [13/14], Step [420/938], Loss: 0.2190\n",
            "Epoch [13/14], Step [440/938], Loss: 0.1499\n",
            "Epoch [13/14], Step [460/938], Loss: 0.2091\n",
            "Epoch [13/14], Step [480/938], Loss: 0.1417\n",
            "Epoch [13/14], Step [500/938], Loss: 0.1448\n",
            "Epoch [13/14], Step [520/938], Loss: 0.0608\n",
            "Epoch [13/14], Step [540/938], Loss: 0.1217\n",
            "Epoch [13/14], Step [560/938], Loss: 0.1440\n",
            "Epoch [13/14], Step [580/938], Loss: 0.1904\n",
            "Epoch [13/14], Step [600/938], Loss: 0.1491\n",
            "Epoch [13/14], Step [620/938], Loss: 0.1589\n",
            "Epoch [13/14], Step [640/938], Loss: 0.1171\n",
            "Epoch [13/14], Step [660/938], Loss: 0.1117\n",
            "Epoch [13/14], Step [680/938], Loss: 0.1560\n",
            "Epoch [13/14], Step [700/938], Loss: 0.2035\n",
            "Epoch [13/14], Step [720/938], Loss: 0.0923\n",
            "Epoch [13/14], Step [740/938], Loss: 0.1144\n",
            "Epoch [13/14], Step [760/938], Loss: 0.0587\n",
            "Epoch [13/14], Step [780/938], Loss: 0.1694\n",
            "Epoch [13/14], Step [800/938], Loss: 0.1447\n",
            "Epoch [13/14], Step [820/938], Loss: 0.2243\n",
            "Epoch [13/14], Step [840/938], Loss: 0.0371\n",
            "Epoch [13/14], Step [860/938], Loss: 0.2744\n",
            "Epoch [13/14], Step [880/938], Loss: 0.1420\n",
            "Epoch [13/14], Step [900/938], Loss: 0.2743\n",
            "Epoch [13/14], Step [920/938], Loss: 0.2192\n",
            "\n",
            "train-loss: 0.0047, train-acc: 95.3000\n",
            "test loss: 0.0062, test acc: 97.7400\n",
            "\n",
            "Improvement-Detected, save-model\n",
            "Epoch 14\n",
            "\n",
            "Epoch [14/14], Step [0/938], Loss: 0.1064\n",
            "Epoch [14/14], Step [20/938], Loss: 0.1061\n",
            "Epoch [14/14], Step [40/938], Loss: 0.2986\n",
            "Epoch [14/14], Step [60/938], Loss: 0.2487\n",
            "Epoch [14/14], Step [80/938], Loss: 0.0615\n",
            "Epoch [14/14], Step [100/938], Loss: 0.1097\n",
            "Epoch [14/14], Step [120/938], Loss: 0.0423\n",
            "Epoch [14/14], Step [140/938], Loss: 0.0665\n",
            "Epoch [14/14], Step [160/938], Loss: 0.2224\n",
            "Epoch [14/14], Step [180/938], Loss: 0.1208\n",
            "Epoch [14/14], Step [200/938], Loss: 0.0467\n",
            "Epoch [14/14], Step [220/938], Loss: 0.2065\n",
            "Epoch [14/14], Step [240/938], Loss: 0.0881\n",
            "Epoch [14/14], Step [260/938], Loss: 0.1063\n",
            "Epoch [14/14], Step [280/938], Loss: 0.1950\n",
            "Epoch [14/14], Step [300/938], Loss: 0.0788\n",
            "Epoch [14/14], Step [320/938], Loss: 0.0650\n",
            "Epoch [14/14], Step [340/938], Loss: 0.0432\n",
            "Epoch [14/14], Step [360/938], Loss: 0.1765\n",
            "Epoch [14/14], Step [380/938], Loss: 0.0914\n",
            "Epoch [14/14], Step [400/938], Loss: 0.0982\n",
            "Epoch [14/14], Step [420/938], Loss: 0.2108\n",
            "Epoch [14/14], Step [440/938], Loss: 0.3230\n",
            "Epoch [14/14], Step [460/938], Loss: 0.1849\n",
            "Epoch [14/14], Step [480/938], Loss: 0.0657\n",
            "Epoch [14/14], Step [500/938], Loss: 0.1101\n",
            "Epoch [14/14], Step [520/938], Loss: 0.1475\n",
            "Epoch [14/14], Step [540/938], Loss: 0.0472\n",
            "Epoch [14/14], Step [560/938], Loss: 0.1783\n",
            "Epoch [14/14], Step [580/938], Loss: 0.3631\n",
            "Epoch [14/14], Step [600/938], Loss: 0.1386\n",
            "Epoch [14/14], Step [620/938], Loss: 0.3660\n",
            "Epoch [14/14], Step [640/938], Loss: 0.1145\n",
            "Epoch [14/14], Step [660/938], Loss: 0.0698\n",
            "Epoch [14/14], Step [680/938], Loss: 0.3800\n",
            "Epoch [14/14], Step [700/938], Loss: 0.0927\n",
            "Epoch [14/14], Step [720/938], Loss: 0.1260\n",
            "Epoch [14/14], Step [740/938], Loss: 0.1165\n",
            "Epoch [14/14], Step [760/938], Loss: 0.2133\n",
            "Epoch [14/14], Step [780/938], Loss: 0.0345\n",
            "Epoch [14/14], Step [800/938], Loss: 0.2017\n",
            "Epoch [14/14], Step [820/938], Loss: 0.1679\n",
            "Epoch [14/14], Step [840/938], Loss: 0.2124\n",
            "Epoch [14/14], Step [860/938], Loss: 0.1810\n",
            "Epoch [14/14], Step [880/938], Loss: 0.1354\n",
            "Epoch [14/14], Step [900/938], Loss: 0.1075\n",
            "Epoch [14/14], Step [920/938], Loss: 0.2146\n",
            "\n",
            "train-loss: 0.0046, train-acc: 95.3283\n",
            "test loss: 0.0059, test acc: 97.6300\n",
            "\n"
          ]
        }
      ]
    },
    {
      "cell_type": "code",
      "source": [
        "num = 64\n",
        "classes = data_sets['test'].classes\n",
        "indices = list(range(len(data_sets['test'])))\n",
        "np.random.shuffle(indices)\n",
        "idx = indices[:num]\n",
        "from torch.utils.data.sampler import SubsetRandomSampler\n",
        "sampler = SubsetRandomSampler(idx)\n",
        "loader = torch.utils.data.DataLoader(data_sets['test'], sampler=sampler, batch_size=num)\n",
        "# dataiter = iter(loader)\n",
        "# images, labels = dataiter.next()\n",
        "for images, labels in loader:\n",
        "    print(images.shape)  # Print the shape of the batch\n",
        "    print(labels)"
      ],
      "metadata": {
        "id": "ix7jv3AlhEwN",
        "colab": {
          "base_uri": "https://localhost:8080/"
        },
        "outputId": "c0f95773-ce9d-43fe-eada-0b8bc58531be"
      },
      "execution_count": 34,
      "outputs": [
        {
          "output_type": "stream",
          "name": "stdout",
          "text": [
            "torch.Size([64, 3, 224, 224])\n",
            "tensor([0, 4, 8, 9, 1, 7, 9, 6, 1, 2, 5, 3, 8, 5, 4, 6, 1, 0, 3, 3, 3, 7, 2, 8,\n",
            "        3, 2, 1, 4, 5, 6, 6, 4, 1, 0, 4, 8, 5, 7, 8, 0, 2, 5, 3, 2, 7, 5, 9, 9,\n",
            "        6, 4, 0, 1, 6, 0, 3, 2, 7, 7, 9, 2, 7, 9, 9, 2])\n"
          ]
        }
      ]
    },
    {
      "cell_type": "code",
      "source": [
        "def imshow(inp, title=None):\n",
        "\n",
        "    inp = inp.cpu() if device else inp\n",
        "    inp = inp.numpy().transpose((1, 2, 0))\n",
        "\n",
        "    mean = np.array([0.4914, 0.4822, 0.4465])\n",
        "    std = np.array([0.2023, 0.1994, 0.2010])\n",
        "    inp = std * inp + mean\n",
        "    inp = np.clip(inp, 0, 1)\n",
        "\n",
        "    plt.imshow(inp)\n",
        "    if title is not None:\n",
        "        plt.title(title)\n",
        "    plt.pause(0.001)"
      ],
      "metadata": {
        "id": "RdzAA2VjgJ5V"
      },
      "execution_count": 28,
      "outputs": []
    },
    {
      "cell_type": "code",
      "source": [
        "plt.ion()\n",
        "\n",
        "if use_cuda:\n",
        "    images, labels = images.cuda(), labels.cuda()\n",
        "\n",
        "outputs = resnet50(images)\n",
        "_, preds = torch.max(outputs.data, 1)\n",
        "preds = preds.cpu().numpy() if use_cuda else preds.numpy()\n",
        "\n",
        "images_so_far = 0\n",
        "for i in range(num):\n",
        "    images_so_far += 1\n",
        "    ax = plt.subplot(7, 10, images_so_far)\n",
        "    ax.axis('off')\n",
        "    res = preds[i] == labels[i]\n",
        "    ax.set_title('{}: {}'.format(classes[preds[i]], res))\n",
        "    imshow(images[i])\n",
        "\n",
        "plt.ioff()"
      ],
      "metadata": {
        "colab": {
          "base_uri": "https://localhost:8080/",
          "height": 1000
        },
        "id": "kReAaYcgg1I_",
        "outputId": "a6f1cbea-c081-472b-a42c-4d4fbf3ce149"
      },
      "execution_count": 39,
      "outputs": [
        {
          "output_type": "display_data",
          "data": {
            "text/plain": [
              "<Figure size 640x480 with 1 Axes>"
            ],
            "image/png": "[encoded data removed]"
          },
          "metadata": {}
        },
        {
          "output_type": "display_data",
          "data": {
            "text/plain": [
              "<Figure size 640x480 with 1 Axes>"
            ],
            "image/png": "[encoded data removed]"
          },
          "metadata": {}
        },
        {
          "output_type": "display_data",
          "data": {
            "text/plain": [
              "<Figure size 640x480 with 1 Axes>"
            ],
            "image/png": "[encoded data removed]"
          },
          "metadata": {}
        },
        {
          "output_type": "display_data",
          "data": {
            "text/plain": [
              "<Figure size 640x480 with 1 Axes>"
            ],
            "image/png": "[encoded data removed]"
          },
          "metadata": {}
        },
        {
          "output_type": "display_data",
          "data": {
            "text/plain": [
              "<Figure size 640x480 with 1 Axes>"
            ],
            "image/png": "[encoded data removed]"
          },
          "metadata": {}
        },
        {
          "output_type": "display_data",
          "data": {
            "text/plain": [
              "<Figure size 640x480 with 1 Axes>"
            ],
            "image/png": "[encoded data removed]"
          },
          "metadata": {}
        },
        {
          "output_type": "display_data",
          "data": {
            "text/plain": [
              "<Figure size 640x480 with 1 Axes>"
            ],
            "image/png": "[encoded data removed]"
          },
          "metadata": {}
        },
        {
          "output_type": "display_data",
          "data": {
            "text/plain": [
              "<Figure size 640x480 with 1 Axes>"
            ],
            "image/png": "[encoded data removed]"
          },
          "metadata": {}
        },
        {
          "output_type": "display_data",
          "data": {
            "text/plain": [
              "<Figure size 640x480 with 1 Axes>"
            ],
            "image/png": "[encoded data removed]"
          },
          "metadata": {}
        },
        {
          "output_type": "display_data",
          "data": {
            "text/plain": [
              "<Figure size 640x480 with 1 Axes>"
            ],
            "image/png": "[encoded data removed]"
          },
          "metadata": {}
        },
        {
          "output_type": "display_data",
          "data": {
            "text/plain": [
              "<Figure size 640x480 with 1 Axes>"
            ],
            "image/png": "[encoded data removed]"
          },
          "metadata": {}
        },
        {
          "output_type": "display_data",
          "data": {
            "text/plain": [
              "<Figure size 640x480 with 1 Axes>"
            ],
            "image/png": "[encoded data removed]"
          },
          "metadata": {}
        },
        {
          "output_type": "display_data",
          "data": {
            "text/plain": [
              "<Figure size 640x480 with 1 Axes>"
            ],
            "image/png": "[encoded data removed]"
          },
          "metadata": {}
        },
        {
          "output_type": "display_data",
          "data": {
            "text/plain": [
              "<Figure size 640x480 with 1 Axes>"
            ],
            "image/png": "[encoded data removed]"
          },
          "metadata": {}
        },
        {
          "output_type": "display_data",
          "data": {
            "text/plain": [
              "<Figure size 640x480 with 1 Axes>"
            ],
            "image/png": "[encoded data removed]"
          },
          "metadata": {}
        },
        {
          "output_type": "display_data",
          "data": {
            "text/plain": [
              "<Figure size 640x480 with 1 Axes>"
            ],
            "image/png": "[encoded data removed]"
          },
          "metadata": {}
        },
        {
          "output_type": "display_data",
          "data": {
            "text/plain": [
              "<Figure size 640x480 with 1 Axes>"
            ],
            "image/png": "[encoded data removed]"
          },
          "metadata": {}
        },
        {
          "output_type": "display_data",
          "data": {
            "text/plain": [
              "<Figure size 640x480 with 1 Axes>"
            ],
            "image/png": "[encoded data removed]"
          },
          "metadata": {}
        },
        {
          "output_type": "display_data",
          "data": {
            "text/plain": [
              "<Figure size 640x480 with 1 Axes>"
            ],
            "image/png": "[encoded data removed]"
          },
          "metadata": {}
        },
        {
          "output_type": "display_data",
          "data": {
            "text/plain": [
              "<Figure size 640x480 with 1 Axes>"
            ],
            "image/png": "[encoded data removed]"
          },
          "metadata": {}
        },
        {
          "output_type": "display_data",
          "data": {
            "text/plain": [
              "<Figure size 640x480 with 1 Axes>"
            ],
            "image/png": "[encoded data removed]"
          },
          "metadata": {}
        },
        {
          "output_type": "display_data",
          "data": {
            "text/plain": [
              "<Figure size 640x480 with 1 Axes>"
            ],
            "image/png": "[encoded data removed]"
          },
          "metadata": {}
        },
        {
          "output_type": "display_data",
          "data": {
            "text/plain": [
              "<Figure size 640x480 with 1 Axes>"
            ],
            "image/png": "[encoded data removed]"
          },
          "metadata": {}
        },
        {
          "output_type": "display_data",
          "data": {
            "text/plain": [
              "<Figure size 640x480 with 1 Axes>"
            ],
            "image/png": "[encoded data removed]"
          },
          "metadata": {}
        },
        {
          "output_type": "display_data",
          "data": {
            "text/plain": [
              "<Figure size 640x480 with 1 Axes>"
            ],
            "image/png": "[encoded data removed]"
          },
          "metadata": {}
        },
        {
          "output_type": "display_data",
          "data": {
            "text/plain": [
              "<Figure size 640x480 with 1 Axes>"
            ],
            "image/png": "[encoded data removed]"
          },
          "metadata": {}
        },
        {
          "output_type": "display_data",
          "data": {
            "text/plain": [
              "<Figure size 640x480 with 1 Axes>"
            ],
            "image/png": "[encoded data removed]"
          },
          "metadata": {}
        },
        {
          "output_type": "display_data",
          "data": {
            "text/plain": [
              "<Figure size 640x480 with 1 Axes>"
            ],
            "image/png": "[encoded data removed]"
          },
          "metadata": {}
        },
        {
          "output_type": "display_data",
          "data": {
            "text/plain": [
              "<Figure size 640x480 with 1 Axes>"
            ],
            "image/png": "[encoded data removed]"
          },
          "metadata": {}
        },
        {
          "output_type": "display_data",
          "data": {
            "text/plain": [
              "<Figure size 640x480 with 1 Axes>"
            ],
            "image/png": "[encoded data removed]"
          },
          "metadata": {}
        },
        {
          "output_type": "display_data",
          "data": {
            "text/plain": [
              "<Figure size 640x480 with 1 Axes>"
            ],
            "image/png": "[encoded data removed]"
          },
          "metadata": {}
        },
        {
          "output_type": "display_data",
          "data": {
            "text/plain": [
              "<Figure size 640x480 with 1 Axes>"
            ],
            "image/png": "[encoded data removed]"
          },
          "metadata": {}
        },
        {
          "output_type": "display_data",
          "data": {
            "text/plain": [
              "<Figure size 640x480 with 1 Axes>"
            ],
            "image/png": "[encoded data removed]"
          },
          "metadata": {}
        },
        {
          "output_type": "display_data",
          "data": {
            "text/plain": [
              "<Figure size 640x480 with 1 Axes>"
            ],
            "image/png": "[encoded data removed]"
          },
          "metadata": {}
        },
        {
          "output_type": "display_data",
          "data": {
            "text/plain": [
              "<Figure size 640x480 with 1 Axes>"
            ],
            "image/png": "[encoded data removed]"
          },
          "metadata": {}
        },
        {
          "output_type": "display_data",
          "data": {
            "text/plain": [
              "<Figure size 640x480 with 1 Axes>"
            ],
            "image/png": "[encoded data removed]"
          },
          "metadata": {}
        },
        {
          "output_type": "display_data",
          "data": {
            "text/plain": [
              "<Figure size 640x480 with 1 Axes>"
            ],
            "image/png": "[encoded data removed]"
          },
          "metadata": {}
        },
        {
          "output_type": "display_data",
          "data": {
            "text/plain": [
              "<Figure size 640x480 with 1 Axes>"
            ],
            "image/png": "[encoded data removed]"
          },
          "metadata": {}
        },
        {
          "output_type": "display_data",
          "data": {
            "text/plain": [
              "<Figure size 640x480 with 1 Axes>"
            ],
            "image/png": "[encoded data removed]"
          },
          "metadata": {}
        },
        {
          "output_type": "display_data",
          "data": {
            "text/plain": [
              "<Figure size 640x480 with 1 Axes>"
            ],
            "image/png": "[encoded data removed]"
          },
          "metadata": {}
        },
        {
          "output_type": "display_data",
          "data": {
            "text/plain": [
              "<Figure size 640x480 with 1 Axes>"
            ],
            "image/png": "[encoded data removed]"
          },
          "metadata": {}
        },
        {
          "output_type": "display_data",
          "data": {
            "text/plain": [
              "<Figure size 640x480 with 1 Axes>"
            ],
            "image/png": "[encoded data removed]"
          },
          "metadata": {}
        },
        {
          "output_type": "display_data",
          "data": {
            "text/plain": [
              "<Figure size 640x480 with 1 Axes>"
            ],
            "image/png": "[encoded data removed]"
          },
          "metadata": {}
        },
        {
          "output_type": "display_data",
          "data": {
            "text/plain": [
              "<Figure size 640x480 with 1 Axes>"
            ],
            "image/png": "[encoded data removed]"
          },
          "metadata": {}
        },
        {
          "output_type": "display_data",
          "data": {
            "text/plain": [
              "<Figure size 640x480 with 1 Axes>"
            ],
            "image/png": "[encoded data removed]"
          },
          "metadata": {}
        },
        {
          "output_type": "display_data",
          "data": {
            "text/plain": [
              "<Figure size 640x480 with 1 Axes>"
            ],
            "image/png": "[encoded data removed]"
          },
          "metadata": {}
        },
        {
          "output_type": "display_data",
          "data": {
            "text/plain": [
              "<Figure size 640x480 with 1 Axes>"
            ],
            "image/png": "[encoded data removed]"
          },
          "metadata": {}
        },
        {
          "output_type": "display_data",
          "data": {
            "text/plain": [
              "<Figure size 640x480 with 1 Axes>"
            ],
            "image/png": "[encoded data removed]"
          },
          "metadata": {}
        },
        {
          "output_type": "display_data",
          "data": {
            "text/plain": [
              "<Figure size 640x480 with 1 Axes>"
            ],
            "image/png": "[encoded data removed]"
          },
          "metadata": {}
        },
        {
          "output_type": "display_data",
          "data": {
            "text/plain": [
              "<Figure size 640x480 with 1 Axes>"
            ],
            "image/png": "[encoded data removed]"
          },
          "metadata": {}
        },
        {
          "output_type": "display_data",
          "data": {
            "text/plain": [
              "<Figure size 640x480 with 1 Axes>"
            ],
            "image/png": "[encoded data removed]"
          },
          "metadata": {}
        },
        {
          "output_type": "display_data",
          "data": {
            "text/plain": [
              "<Figure size 640x480 with 1 Axes>"
            ],
            "image/png": "[encoded data removed]"
          },
          "metadata": {}
        },
        {
          "output_type": "display_data",
          "data": {
            "text/plain": [
              "<Figure size 640x480 with 1 Axes>"
            ],
            "image/png": "[encoded data removed]"
          },
          "metadata": {}
        },
        {
          "output_type": "display_data",
          "data": {
            "text/plain": [
              "<Figure size 640x480 with 1 Axes>"
            ],
            "image/png": "[encoded data removed]"
          },
          "metadata": {}
        },
        {
          "output_type": "display_data",
          "data": {
            "text/plain": [
              "<Figure size 640x480 with 1 Axes>"
            ],
            "image/png": "[encoded data removed]"
          },
          "metadata": {}
        },
        {
          "output_type": "display_data",
          "data": {
            "text/plain": [
              "<Figure size 640x480 with 1 Axes>"
            ],
            "image/png": "[encoded data removed]"
          },
          "metadata": {}
        },
        {
          "output_type": "display_data",
          "data": {
            "text/plain": [
              "<Figure size 640x480 with 1 Axes>"
            ],
            "image/png": "[encoded data removed]"
          },
          "metadata": {}
        },
        {
          "output_type": "display_data",
          "data": {
            "text/plain": [
              "<Figure size 640x480 with 1 Axes>"
            ],
            "image/png": "[encoded data removed]"
          },
          "metadata": {}
        },
        {
          "output_type": "display_data",
          "data": {
            "text/plain": [
              "<Figure size 640x480 with 1 Axes>"
            ],
            "image/png": "[encoded data removed]"
          },
          "metadata": {}
        },
        {
          "output_type": "display_data",
          "data": {
            "text/plain": [
              "<Figure size 640x480 with 1 Axes>"
            ],
            "image/png": "[encoded data removed]"
          },
          "metadata": {}
        },
        {
          "output_type": "display_data",
          "data": {
            "text/plain": [
              "<Figure size 640x480 with 1 Axes>"
            ],
            "image/png": "[encoded data removed]"
          },
          "metadata": {}
        },
        {
          "output_type": "display_data",
          "data": {
            "text/plain": [
              "<Figure size 640x480 with 1 Axes>"
            ],
            "image/png": "[encoded data removed]"
          },
          "metadata": {}
        },
        {
          "output_type": "display_data",
          "data": {
            "text/plain": [
              "<Figure size 640x480 with 1 Axes>"
            ],
            "image/png": "[encoded data removed]"
          },
          "metadata": {}
        },
        {
          "output_type": "display_data",
          "data": {
            "text/plain": [
              "<Figure size 640x480 with 1 Axes>"
            ],
            "image/png": "[encoded data removed]"
          },
          "metadata": {}
        },
        {
          "output_type": "execute_result",
          "data": {
            "text/plain": [
              "<contextlib.ExitStack at 0x78f4731329e0>"
            ]
          },
          "metadata": {},
          "execution_count": 39
        }
      ]
    },
    {
      "cell_type": "code",
      "source": [],
      "metadata": {
        "id": "yDzRMBsFhng7"
      },
      "execution_count": null,
      "outputs": []
    }
  ]
}